{
 "cells": [
  {
   "cell_type": "markdown",
   "metadata": {},
   "source": [
    "# **ETL: Datasets Ciudad Autónoma de Buenos Aires**"
   ]
  },
  {
   "cell_type": "markdown",
   "metadata": {},
   "source": [
    "#### **Importación de librerías** ####\n",
    "---\n",
    "\n",
    "*Para este cuaderno usaremos las siguientes librerías: **pandas, numpy y datetime**.*"
   ]
  },
  {
   "cell_type": "code",
   "execution_count": 1,
   "metadata": {},
   "outputs": [],
   "source": [
    "import pandas as pd\n",
    "import numpy as np\n",
    "import datetime"
   ]
  },
  {
   "cell_type": "markdown",
   "metadata": {},
   "source": [
    "#### **Extracción de los datos** ####\n",
    "---\n",
    "\n",
    "*Procedemos a abrir nuestros datasets y almacenarlos en un dataframe para visualizarlos y manejarlos en pandas.*\n",
    "\n",
    "1. *Usamos **.read_excel** para leer los datos presentes en los datasets.*\n",
    "2. *De acuerdo con el diccionario de datos de la plataforma de la ciudad, los siniestros se dividen en dos grupos: Siniestros en donde hubo muertos y siniestros donde hubo lesiones.*\n",
    "3. *Los dataframes victimas contienen información a detalle sobre las victimas de los siniestos.*"
   ]
  },
  {
   "cell_type": "code",
   "execution_count": 2,
   "metadata": {},
   "outputs": [],
   "source": [
    "dfHomicidios = pd.read_excel(\"datasets/homicidiosCABA.xlsx\", sheet_name=\"HECHOS\")\n",
    "dfVictimasH = pd.read_excel(\"datasets/homicidiosCABA.xlsx\", sheet_name=\"VICTIMAS\")\n",
    "dfLesiones = pd.read_excel(\"datasets/lesionesCABA.xlsx\", sheet_name=\"HECHOS\")\n",
    "dfVictimasL = pd.read_excel(\"datasets/lesionesCABA.xlsx\", sheet_name=\"VICTIMAS\")"
   ]
  },
  {
   "cell_type": "markdown",
   "metadata": {},
   "source": [
    "### **Análisis Exploratorio Inicial** ###\n",
    "---\n",
    "\n",
    "*Vamos a realizar una **exploración de los datos** (EDA) antes de hacer transformación de los mismos, esto con el fin de **conocer las columnas** y determinar que campos son valiosos para nuestro análisis y así tener claro que pasos realizaremos en el ETL.*\n",
    "\n",
    "**Nota:**: *Posterior al ETL realizaremos también un [EDA](02_EDA.ipynb)\n",
    " enfocado en los datos y una descripción estadística.*"
   ]
  },
  {
   "cell_type": "markdown",
   "metadata": {},
   "source": [
    "#### **Revisión de la extracción de los datos** ####\n",
    "\n",
    "*Revisamos que los datos se cargaron adecuadamente en nuestro dataframe **Homicidios**:*\n",
    "\n",
    "1. *Usamos **head** para previsualizar los primeros registros del Dataframe.*\n",
    "2. *Podemos observar que se cargaron adecuadamente los datos, pero vemos datos **vacíos**.*"
   ]
  },
  {
   "cell_type": "code",
   "execution_count": 3,
   "metadata": {},
   "outputs": [
    {
     "data": {
      "text/html": [
       "<div>\n",
       "<style scoped>\n",
       "    .dataframe tbody tr th:only-of-type {\n",
       "        vertical-align: middle;\n",
       "    }\n",
       "\n",
       "    .dataframe tbody tr th {\n",
       "        vertical-align: top;\n",
       "    }\n",
       "\n",
       "    .dataframe thead th {\n",
       "        text-align: right;\n",
       "    }\n",
       "</style>\n",
       "<table border=\"1\" class=\"dataframe\">\n",
       "  <thead>\n",
       "    <tr style=\"text-align: right;\">\n",
       "      <th></th>\n",
       "      <th>ID</th>\n",
       "      <th>N_VICTIMAS</th>\n",
       "      <th>FECHA</th>\n",
       "      <th>AAAA</th>\n",
       "      <th>MM</th>\n",
       "      <th>DD</th>\n",
       "      <th>HORA</th>\n",
       "      <th>HH</th>\n",
       "      <th>LUGAR_DEL_HECHO</th>\n",
       "      <th>TIPO_DE_CALLE</th>\n",
       "      <th>...</th>\n",
       "      <th>Altura</th>\n",
       "      <th>Cruce</th>\n",
       "      <th>Dirección Normalizada</th>\n",
       "      <th>COMUNA</th>\n",
       "      <th>XY (CABA)</th>\n",
       "      <th>pos x</th>\n",
       "      <th>pos y</th>\n",
       "      <th>PARTICIPANTES</th>\n",
       "      <th>VICTIMA</th>\n",
       "      <th>ACUSADO</th>\n",
       "    </tr>\n",
       "  </thead>\n",
       "  <tbody>\n",
       "    <tr>\n",
       "      <th>0</th>\n",
       "      <td>2016-0001</td>\n",
       "      <td>1</td>\n",
       "      <td>2016-01-01</td>\n",
       "      <td>2016</td>\n",
       "      <td>1</td>\n",
       "      <td>1</td>\n",
       "      <td>04:00:00</td>\n",
       "      <td>4</td>\n",
       "      <td>AV PIEDRA BUENA Y AV FERNANDEZ DE LA CRUZ</td>\n",
       "      <td>AVENIDA</td>\n",
       "      <td>...</td>\n",
       "      <td>NaN</td>\n",
       "      <td>FERNANDEZ DE LA CRUZ, F., GRAL. AV.</td>\n",
       "      <td>PIEDRA BUENA AV. y FERNANDEZ DE LA CRUZ, F., G...</td>\n",
       "      <td>8</td>\n",
       "      <td>Point (98896.78238426 93532.43437792)</td>\n",
       "      <td>-58.47533969</td>\n",
       "      <td>-34.68757022</td>\n",
       "      <td>MOTO-AUTO</td>\n",
       "      <td>MOTO</td>\n",
       "      <td>AUTO</td>\n",
       "    </tr>\n",
       "    <tr>\n",
       "      <th>1</th>\n",
       "      <td>2016-0002</td>\n",
       "      <td>1</td>\n",
       "      <td>2016-01-02</td>\n",
       "      <td>2016</td>\n",
       "      <td>1</td>\n",
       "      <td>2</td>\n",
       "      <td>01:15:00</td>\n",
       "      <td>1</td>\n",
       "      <td>AV GRAL PAZ  Y AV DE LOS CORRALES</td>\n",
       "      <td>GRAL PAZ</td>\n",
       "      <td>...</td>\n",
       "      <td>NaN</td>\n",
       "      <td>DE LOS CORRALES AV.</td>\n",
       "      <td>PAZ, GRAL. AV. y DE LOS CORRALES AV.</td>\n",
       "      <td>9</td>\n",
       "      <td>Point (95832.05571093 95505.41641999)</td>\n",
       "      <td>-58.50877521</td>\n",
       "      <td>-34.66977709</td>\n",
       "      <td>AUTO-PASAJEROS</td>\n",
       "      <td>AUTO</td>\n",
       "      <td>PASAJEROS</td>\n",
       "    </tr>\n",
       "    <tr>\n",
       "      <th>2</th>\n",
       "      <td>2016-0003</td>\n",
       "      <td>1</td>\n",
       "      <td>2016-01-03</td>\n",
       "      <td>2016</td>\n",
       "      <td>1</td>\n",
       "      <td>3</td>\n",
       "      <td>07:00:00</td>\n",
       "      <td>7</td>\n",
       "      <td>AV ENTRE RIOS 2034</td>\n",
       "      <td>AVENIDA</td>\n",
       "      <td>...</td>\n",
       "      <td>2034.0</td>\n",
       "      <td>NaN</td>\n",
       "      <td>ENTRE RIOS AV. 2034</td>\n",
       "      <td>1</td>\n",
       "      <td>Point (106684.29090040 99706.57687843)</td>\n",
       "      <td>-58.39040293</td>\n",
       "      <td>-34.63189362</td>\n",
       "      <td>MOTO-AUTO</td>\n",
       "      <td>MOTO</td>\n",
       "      <td>AUTO</td>\n",
       "    </tr>\n",
       "  </tbody>\n",
       "</table>\n",
       "<p>3 rows × 21 columns</p>\n",
       "</div>"
      ],
      "text/plain": [
       "          ID  N_VICTIMAS      FECHA  AAAA  MM  DD      HORA HH  \\\n",
       "0  2016-0001           1 2016-01-01  2016   1   1  04:00:00  4   \n",
       "1  2016-0002           1 2016-01-02  2016   1   2  01:15:00  1   \n",
       "2  2016-0003           1 2016-01-03  2016   1   3  07:00:00  7   \n",
       "\n",
       "                             LUGAR_DEL_HECHO TIPO_DE_CALLE  ...  Altura  \\\n",
       "0  AV PIEDRA BUENA Y AV FERNANDEZ DE LA CRUZ       AVENIDA  ...     NaN   \n",
       "1          AV GRAL PAZ  Y AV DE LOS CORRALES      GRAL PAZ  ...     NaN   \n",
       "2                         AV ENTRE RIOS 2034       AVENIDA  ...  2034.0   \n",
       "\n",
       "                                 Cruce  \\\n",
       "0  FERNANDEZ DE LA CRUZ, F., GRAL. AV.   \n",
       "1                  DE LOS CORRALES AV.   \n",
       "2                                  NaN   \n",
       "\n",
       "                               Dirección Normalizada COMUNA  \\\n",
       "0  PIEDRA BUENA AV. y FERNANDEZ DE LA CRUZ, F., G...      8   \n",
       "1               PAZ, GRAL. AV. y DE LOS CORRALES AV.      9   \n",
       "2                                ENTRE RIOS AV. 2034      1   \n",
       "\n",
       "                                XY (CABA)         pos x         pos y  \\\n",
       "0   Point (98896.78238426 93532.43437792)  -58.47533969  -34.68757022   \n",
       "1   Point (95832.05571093 95505.41641999)  -58.50877521  -34.66977709   \n",
       "2  Point (106684.29090040 99706.57687843)  -58.39040293  -34.63189362   \n",
       "\n",
       "    PARTICIPANTES VICTIMA    ACUSADO  \n",
       "0       MOTO-AUTO    MOTO       AUTO  \n",
       "1  AUTO-PASAJEROS    AUTO  PASAJEROS  \n",
       "2       MOTO-AUTO    MOTO       AUTO  \n",
       "\n",
       "[3 rows x 21 columns]"
      ]
     },
     "execution_count": 3,
     "metadata": {},
     "output_type": "execute_result"
    }
   ],
   "source": [
    "dfHomicidios.head(3)"
   ]
  },
  {
   "cell_type": "markdown",
   "metadata": {},
   "source": [
    "*Revisamos que los datos se cargaron adecuadamente en nuestro dataframe **Victimas Homicidios**:*\n",
    "\n",
    "1. *Usamos **head** para previsualizar los primeros registros del Dataframe.*\n",
    "2. *Podemos observar que se cargaron adecuadamente los datos, por ahora no vemos datos **vacíos**.*"
   ]
  },
  {
   "cell_type": "code",
   "execution_count": 4,
   "metadata": {},
   "outputs": [
    {
     "data": {
      "text/html": [
       "<div>\n",
       "<style scoped>\n",
       "    .dataframe tbody tr th:only-of-type {\n",
       "        vertical-align: middle;\n",
       "    }\n",
       "\n",
       "    .dataframe tbody tr th {\n",
       "        vertical-align: top;\n",
       "    }\n",
       "\n",
       "    .dataframe thead th {\n",
       "        text-align: right;\n",
       "    }\n",
       "</style>\n",
       "<table border=\"1\" class=\"dataframe\">\n",
       "  <thead>\n",
       "    <tr style=\"text-align: right;\">\n",
       "      <th></th>\n",
       "      <th>ID_hecho</th>\n",
       "      <th>FECHA</th>\n",
       "      <th>AAAA</th>\n",
       "      <th>MM</th>\n",
       "      <th>DD</th>\n",
       "      <th>ROL</th>\n",
       "      <th>VICTIMA</th>\n",
       "      <th>SEXO</th>\n",
       "      <th>EDAD</th>\n",
       "      <th>FECHA_FALLECIMIENTO</th>\n",
       "    </tr>\n",
       "  </thead>\n",
       "  <tbody>\n",
       "    <tr>\n",
       "      <th>0</th>\n",
       "      <td>2016-0001</td>\n",
       "      <td>2016-01-01</td>\n",
       "      <td>2016</td>\n",
       "      <td>1</td>\n",
       "      <td>1</td>\n",
       "      <td>CONDUCTOR</td>\n",
       "      <td>MOTO</td>\n",
       "      <td>MASCULINO</td>\n",
       "      <td>19</td>\n",
       "      <td>2016-01-01 00:00:00</td>\n",
       "    </tr>\n",
       "    <tr>\n",
       "      <th>1</th>\n",
       "      <td>2016-0002</td>\n",
       "      <td>2016-01-02</td>\n",
       "      <td>2016</td>\n",
       "      <td>1</td>\n",
       "      <td>2</td>\n",
       "      <td>CONDUCTOR</td>\n",
       "      <td>AUTO</td>\n",
       "      <td>MASCULINO</td>\n",
       "      <td>70</td>\n",
       "      <td>2016-01-02 00:00:00</td>\n",
       "    </tr>\n",
       "    <tr>\n",
       "      <th>2</th>\n",
       "      <td>2016-0003</td>\n",
       "      <td>2016-01-03</td>\n",
       "      <td>2016</td>\n",
       "      <td>1</td>\n",
       "      <td>3</td>\n",
       "      <td>CONDUCTOR</td>\n",
       "      <td>MOTO</td>\n",
       "      <td>MASCULINO</td>\n",
       "      <td>30</td>\n",
       "      <td>2016-01-03 00:00:00</td>\n",
       "    </tr>\n",
       "  </tbody>\n",
       "</table>\n",
       "</div>"
      ],
      "text/plain": [
       "    ID_hecho      FECHA  AAAA  MM  DD        ROL VICTIMA       SEXO EDAD  \\\n",
       "0  2016-0001 2016-01-01  2016   1   1  CONDUCTOR    MOTO  MASCULINO   19   \n",
       "1  2016-0002 2016-01-02  2016   1   2  CONDUCTOR    AUTO  MASCULINO   70   \n",
       "2  2016-0003 2016-01-03  2016   1   3  CONDUCTOR    MOTO  MASCULINO   30   \n",
       "\n",
       "   FECHA_FALLECIMIENTO  \n",
       "0  2016-01-01 00:00:00  \n",
       "1  2016-01-02 00:00:00  \n",
       "2  2016-01-03 00:00:00  "
      ]
     },
     "execution_count": 4,
     "metadata": {},
     "output_type": "execute_result"
    }
   ],
   "source": [
    "dfVictimasH.head(3)"
   ]
  },
  {
   "cell_type": "markdown",
   "metadata": {},
   "source": [
    "*Revisamos que los datos se cargaron adecuadamente en nuestro dataframe **Lesiones**:*\n",
    "\n",
    "1. *Usamos **head** para previsualizar los primeros registros del Dataframe.*\n",
    "2. *Podemos observar que se cargaron adecuadamente los datos, por ahora vemos datos **SD** que según el diccionario de datos son la abreviación de Sin Dato.*"
   ]
  },
  {
   "cell_type": "code",
   "execution_count": 5,
   "metadata": {},
   "outputs": [
    {
     "data": {
      "text/html": [
       "<div>\n",
       "<style scoped>\n",
       "    .dataframe tbody tr th:only-of-type {\n",
       "        vertical-align: middle;\n",
       "    }\n",
       "\n",
       "    .dataframe tbody tr th {\n",
       "        vertical-align: top;\n",
       "    }\n",
       "\n",
       "    .dataframe thead th {\n",
       "        text-align: right;\n",
       "    }\n",
       "</style>\n",
       "<table border=\"1\" class=\"dataframe\">\n",
       "  <thead>\n",
       "    <tr style=\"text-align: right;\">\n",
       "      <th></th>\n",
       "      <th>id</th>\n",
       "      <th>n_victimas</th>\n",
       "      <th>aaaa</th>\n",
       "      <th>mm</th>\n",
       "      <th>dd</th>\n",
       "      <th>fecha</th>\n",
       "      <th>hora</th>\n",
       "      <th>franja_hora</th>\n",
       "      <th>direccion_normalizada</th>\n",
       "      <th>comuna</th>\n",
       "      <th>...</th>\n",
       "      <th>latutid</th>\n",
       "      <th>victima</th>\n",
       "      <th>acusado</th>\n",
       "      <th>participantes</th>\n",
       "      <th>moto</th>\n",
       "      <th>auto</th>\n",
       "      <th>transporte_publico</th>\n",
       "      <th>camion</th>\n",
       "      <th>ciclista</th>\n",
       "      <th>gravedad</th>\n",
       "    </tr>\n",
       "  </thead>\n",
       "  <tbody>\n",
       "    <tr>\n",
       "      <th>0</th>\n",
       "      <td>LC-2019-0000179</td>\n",
       "      <td>1</td>\n",
       "      <td>2019</td>\n",
       "      <td>1</td>\n",
       "      <td>1</td>\n",
       "      <td>2019-01-01 00:00:00</td>\n",
       "      <td>09:00:00</td>\n",
       "      <td>9</td>\n",
       "      <td>SD</td>\n",
       "      <td>14</td>\n",
       "      <td>...</td>\n",
       "      <td>-34.559658</td>\n",
       "      <td>CICLISTA</td>\n",
       "      <td>SD</td>\n",
       "      <td>CICLISTA-SD</td>\n",
       "      <td>SD</td>\n",
       "      <td>SD</td>\n",
       "      <td>SD</td>\n",
       "      <td>SD</td>\n",
       "      <td>x</td>\n",
       "      <td>SD</td>\n",
       "    </tr>\n",
       "    <tr>\n",
       "      <th>1</th>\n",
       "      <td>LC-2019-0000053</td>\n",
       "      <td>1</td>\n",
       "      <td>2019</td>\n",
       "      <td>1</td>\n",
       "      <td>1</td>\n",
       "      <td>2019-01-01 00:00:00</td>\n",
       "      <td>01:55:00</td>\n",
       "      <td>1</td>\n",
       "      <td>SD</td>\n",
       "      <td>8</td>\n",
       "      <td>...</td>\n",
       "      <td>-34.669125</td>\n",
       "      <td>AUTO</td>\n",
       "      <td>SD</td>\n",
       "      <td>AUTO-SD</td>\n",
       "      <td>SD</td>\n",
       "      <td>x</td>\n",
       "      <td>SD</td>\n",
       "      <td>SD</td>\n",
       "      <td>SD</td>\n",
       "      <td>SD</td>\n",
       "    </tr>\n",
       "    <tr>\n",
       "      <th>2</th>\n",
       "      <td>LC-2019-0000063</td>\n",
       "      <td>1</td>\n",
       "      <td>2019</td>\n",
       "      <td>1</td>\n",
       "      <td>1</td>\n",
       "      <td>2019-01-01 00:00:00</td>\n",
       "      <td>02:00:00</td>\n",
       "      <td>2</td>\n",
       "      <td>SD</td>\n",
       "      <td>8</td>\n",
       "      <td>...</td>\n",
       "      <td>-34.677556</td>\n",
       "      <td>SD</td>\n",
       "      <td>SD</td>\n",
       "      <td>SD-SD</td>\n",
       "      <td>SD</td>\n",
       "      <td>SD</td>\n",
       "      <td>SD</td>\n",
       "      <td>SD</td>\n",
       "      <td>SD</td>\n",
       "      <td>SD</td>\n",
       "    </tr>\n",
       "  </tbody>\n",
       "</table>\n",
       "<p>3 rows × 27 columns</p>\n",
       "</div>"
      ],
      "text/plain": [
       "                id  n_victimas  aaaa  mm  dd                fecha      hora  \\\n",
       "0  LC-2019-0000179           1  2019   1   1  2019-01-01 00:00:00  09:00:00   \n",
       "1  LC-2019-0000053           1  2019   1   1  2019-01-01 00:00:00  01:55:00   \n",
       "2  LC-2019-0000063           1  2019   1   1  2019-01-01 00:00:00  02:00:00   \n",
       "\n",
       "  franja_hora direccion_normalizada comuna  ...     latutid   victima acusado  \\\n",
       "0           9                    SD     14  ...  -34.559658  CICLISTA      SD   \n",
       "1           1                    SD      8  ...  -34.669125      AUTO      SD   \n",
       "2           2                    SD      8  ...  -34.677556        SD      SD   \n",
       "\n",
       "   participantes moto auto transporte_publico camion ciclista gravedad  \n",
       "0    CICLISTA-SD   SD   SD                 SD     SD        x       SD  \n",
       "1        AUTO-SD   SD    x                 SD     SD       SD       SD  \n",
       "2          SD-SD   SD   SD                 SD     SD       SD       SD  \n",
       "\n",
       "[3 rows x 27 columns]"
      ]
     },
     "execution_count": 5,
     "metadata": {},
     "output_type": "execute_result"
    }
   ],
   "source": [
    "dfLesiones.head(3)"
   ]
  },
  {
   "cell_type": "markdown",
   "metadata": {},
   "source": [
    "*Revisamos que los datos se cargaron adecuadamente en nuestro dataframe **Victimas Lesiones**:*\n",
    "\n",
    "1. *Usamos **head** para previsualizar los primeros registros del Dataframe.*\n",
    "2. *Podemos observar que se cargaron adecuadamente los datos, por ahora vemos datos **SD** que según el diccionario de datos son la abreviación de Sin Dato.*"
   ]
  },
  {
   "cell_type": "code",
   "execution_count": 6,
   "metadata": {},
   "outputs": [
    {
     "data": {
      "text/html": [
       "<div>\n",
       "<style scoped>\n",
       "    .dataframe tbody tr th:only-of-type {\n",
       "        vertical-align: middle;\n",
       "    }\n",
       "\n",
       "    .dataframe tbody tr th {\n",
       "        vertical-align: top;\n",
       "    }\n",
       "\n",
       "    .dataframe thead th {\n",
       "        text-align: right;\n",
       "    }\n",
       "</style>\n",
       "<table border=\"1\" class=\"dataframe\">\n",
       "  <thead>\n",
       "    <tr style=\"text-align: right;\">\n",
       "      <th></th>\n",
       "      <th>ID hecho</th>\n",
       "      <th>AAA</th>\n",
       "      <th>MM</th>\n",
       "      <th>DD</th>\n",
       "      <th>FECHA</th>\n",
       "      <th>VEHICULO_VICTIMA</th>\n",
       "      <th>SEXO</th>\n",
       "      <th>EDAD_VICTIMA</th>\n",
       "      <th>GRAVEDAD</th>\n",
       "    </tr>\n",
       "  </thead>\n",
       "  <tbody>\n",
       "    <tr>\n",
       "      <th>0</th>\n",
       "      <td>LC-2019-0000053</td>\n",
       "      <td>2019</td>\n",
       "      <td>1</td>\n",
       "      <td>1</td>\n",
       "      <td>2019-01-01</td>\n",
       "      <td>sd</td>\n",
       "      <td>Varon</td>\n",
       "      <td>57</td>\n",
       "      <td>SD</td>\n",
       "    </tr>\n",
       "    <tr>\n",
       "      <th>1</th>\n",
       "      <td>LC-2019-0000063</td>\n",
       "      <td>2019</td>\n",
       "      <td>1</td>\n",
       "      <td>1</td>\n",
       "      <td>2019-01-01</td>\n",
       "      <td>sd</td>\n",
       "      <td>SD</td>\n",
       "      <td>SD</td>\n",
       "      <td>SD</td>\n",
       "    </tr>\n",
       "    <tr>\n",
       "      <th>2</th>\n",
       "      <td>LC-2019-0000079</td>\n",
       "      <td>2019</td>\n",
       "      <td>1</td>\n",
       "      <td>1</td>\n",
       "      <td>2019-01-01</td>\n",
       "      <td>sd</td>\n",
       "      <td>Varon</td>\n",
       "      <td>SD</td>\n",
       "      <td>SD</td>\n",
       "    </tr>\n",
       "  </tbody>\n",
       "</table>\n",
       "</div>"
      ],
      "text/plain": [
       "          ID hecho   AAA  MM  DD     FECHA  VEHICULO_VICTIMA   SEXO  \\\n",
       "0  LC-2019-0000053  2019   1   1 2019-01-01               sd  Varon   \n",
       "1  LC-2019-0000063  2019   1   1 2019-01-01               sd     SD   \n",
       "2  LC-2019-0000079  2019   1   1 2019-01-01               sd  Varon   \n",
       "\n",
       "  EDAD_VICTIMA GRAVEDAD  \n",
       "0           57       SD  \n",
       "1           SD       SD  \n",
       "2           SD       SD  "
      ]
     },
     "execution_count": 6,
     "metadata": {},
     "output_type": "execute_result"
    }
   ],
   "source": [
    "dfVictimasL.head(3)"
   ]
  },
  {
   "cell_type": "markdown",
   "metadata": {},
   "source": [
    "#### **Revisión de la forma de los datos** ####\n",
    "\n",
    "1. *Usamos **shape** obtener el número de filas y columnas del dataframe.*"
   ]
  },
  {
   "cell_type": "markdown",
   "metadata": {},
   "source": [
    "*Revisamos la forma del dataframe **Homicidios**:*\n",
    "\n",
    "1. *Nuestro dataframe tiene **696 filas y 21 columnas**.*\n",
    "2. *Por ahora podemos observar que existen 696 registros de siniestros donde hubo fallecimiento de personas.*"
   ]
  },
  {
   "cell_type": "code",
   "execution_count": 7,
   "metadata": {},
   "outputs": [
    {
     "data": {
      "text/plain": [
       "(696, 21)"
      ]
     },
     "execution_count": 7,
     "metadata": {},
     "output_type": "execute_result"
    }
   ],
   "source": [
    "dfHomicidios.shape"
   ]
  },
  {
   "cell_type": "markdown",
   "metadata": {},
   "source": [
    "*Revisamos la forma del dataframe **Victimas Homicidios**:*\n",
    "\n",
    "1. *Nuestro dataframe tiene **717 filas y 10 columnas**.*\n",
    "2. *Por ahora podemos observar que existen 717 registros de victimas mortales de siniestros, por lo tanto el promedio de numero de victimas por siniestro es mayor a 1.*"
   ]
  },
  {
   "cell_type": "code",
   "execution_count": 8,
   "metadata": {},
   "outputs": [
    {
     "data": {
      "text/plain": [
       "(717, 10)"
      ]
     },
     "execution_count": 8,
     "metadata": {},
     "output_type": "execute_result"
    }
   ],
   "source": [
    "dfVictimasH.shape"
   ]
  },
  {
   "cell_type": "markdown",
   "metadata": {},
   "source": [
    "*Revisamos la forma del dataframe **Lesiones**:*\n",
    "\n",
    "1. *Nuestro dataframe tiene **23785 filas y 27 columnas**.*\n",
    "2. *Por ahora podemos observar que existen 23785 registros de siniestros donde hubo lesiones de personas, por ahora podríamos decir que es mayor el número de siniestros donde se provocan lesiones que los siniestros donde se provocan fallecimientos.*"
   ]
  },
  {
   "cell_type": "code",
   "execution_count": 9,
   "metadata": {},
   "outputs": [
    {
     "data": {
      "text/plain": [
       "(23785, 27)"
      ]
     },
     "execution_count": 9,
     "metadata": {},
     "output_type": "execute_result"
    }
   ],
   "source": [
    "dfLesiones.shape"
   ]
  },
  {
   "cell_type": "markdown",
   "metadata": {},
   "source": [
    "*Revisamos la forma del dataframe **Victimas Lesiones**:*\n",
    "\n",
    "1. *Nuestro dataframe tiene **27605 filas y 9 columnas**.*\n",
    "2. *Por ahora podemos observar que existen 27605 registros de victimas de siniestros donde hubo lesiones de personas, por lo tanto el promedio de numero de lesionados por siniestro es mayor a 1.*"
   ]
  },
  {
   "cell_type": "code",
   "execution_count": 10,
   "metadata": {},
   "outputs": [
    {
     "data": {
      "text/plain": [
       "(27605, 9)"
      ]
     },
     "execution_count": 10,
     "metadata": {},
     "output_type": "execute_result"
    }
   ],
   "source": [
    "dfVictimasL.shape"
   ]
  },
  {
   "cell_type": "markdown",
   "metadata": {},
   "source": [
    "#### **Exploración de las columnas** ####\n",
    "\n",
    "*Vamos a revisar qué columnas existen en el dataframe y de qué tipo son:*\n",
    "\n",
    "1. *Usamos el método **info()** para listar las columnas, su valores no nulos y sus tipos.*"
   ]
  },
  {
   "cell_type": "markdown",
   "metadata": {},
   "source": [
    "*Revisamos el dataframe **Homicidios**:*\n",
    "\n",
    "1. *Se observa que la columna Altura solo tiene 129 valores válidos, el **81%** de los registros son nulos.*\n",
    "2. *Se observa que la columna cruce tiene 525 valores válidos, el **24%** de los registros son nulos.*\n",
    "3. *Existen cuatro tipos de datos en el dataframe: object, int, float y datetime.*"
   ]
  },
  {
   "cell_type": "code",
   "execution_count": 11,
   "metadata": {},
   "outputs": [
    {
     "name": "stdout",
     "output_type": "stream",
     "text": [
      "<class 'pandas.core.frame.DataFrame'>\n",
      "RangeIndex: 696 entries, 0 to 695\n",
      "Data columns (total 21 columns):\n",
      " #   Column                 Non-Null Count  Dtype         \n",
      "---  ------                 --------------  -----         \n",
      " 0   ID                     696 non-null    object        \n",
      " 1   N_VICTIMAS             696 non-null    int64         \n",
      " 2   FECHA                  696 non-null    datetime64[ns]\n",
      " 3   AAAA                   696 non-null    int64         \n",
      " 4   MM                     696 non-null    int64         \n",
      " 5   DD                     696 non-null    int64         \n",
      " 6   HORA                   696 non-null    object        \n",
      " 7   HH                     696 non-null    object        \n",
      " 8   LUGAR_DEL_HECHO        696 non-null    object        \n",
      " 9   TIPO_DE_CALLE          696 non-null    object        \n",
      " 10  Calle                  695 non-null    object        \n",
      " 11  Altura                 129 non-null    float64       \n",
      " 12  Cruce                  525 non-null    object        \n",
      " 13  Dirección Normalizada  688 non-null    object        \n",
      " 14  COMUNA                 696 non-null    int64         \n",
      " 15  XY (CABA)              696 non-null    object        \n",
      " 16  pos x                  696 non-null    object        \n",
      " 17  pos y                  696 non-null    object        \n",
      " 18  PARTICIPANTES          696 non-null    object        \n",
      " 19  VICTIMA                696 non-null    object        \n",
      " 20  ACUSADO                696 non-null    object        \n",
      "dtypes: datetime64[ns](1), float64(1), int64(5), object(14)\n",
      "memory usage: 114.3+ KB\n"
     ]
    }
   ],
   "source": [
    "dfHomicidios.info()"
   ]
  },
  {
   "cell_type": "code",
   "execution_count": 12,
   "metadata": {},
   "outputs": [
    {
     "data": {
      "text/plain": [
       "ID                        0.000000\n",
       "N_VICTIMAS                0.000000\n",
       "FECHA                     0.000000\n",
       "AAAA                      0.000000\n",
       "MM                        0.000000\n",
       "DD                        0.000000\n",
       "HORA                      0.000000\n",
       "HH                        0.000000\n",
       "LUGAR_DEL_HECHO           0.000000\n",
       "TIPO_DE_CALLE             0.000000\n",
       "Calle                     0.143678\n",
       "Altura                   81.465517\n",
       "Cruce                    24.568966\n",
       "Dirección Normalizada     1.149425\n",
       "COMUNA                    0.000000\n",
       "XY (CABA)                 0.000000\n",
       "pos x                     0.000000\n",
       "pos y                     0.000000\n",
       "PARTICIPANTES             0.000000\n",
       "VICTIMA                   0.000000\n",
       "ACUSADO                   0.000000\n",
       "dtype: float64"
      ]
     },
     "execution_count": 12,
     "metadata": {},
     "output_type": "execute_result"
    }
   ],
   "source": [
    "nulosHom = dfHomicidios.isnull().sum()\n",
    "porcentajeHom = (nulosHom/dfHomicidios.shape[0])*100\n",
    "porcentajeHom"
   ]
  },
  {
   "cell_type": "markdown",
   "metadata": {},
   "source": [
    "*Revisamos el dataframe **Victimas Homicidios**:*\n",
    "\n",
    "1. *Se observa que todas las columnas tienen valores válidos a primera vista.*\n",
    "2. *Existen tres tipos de datos en el dataframe: object, int y datetime.*"
   ]
  },
  {
   "cell_type": "code",
   "execution_count": 13,
   "metadata": {},
   "outputs": [
    {
     "name": "stdout",
     "output_type": "stream",
     "text": [
      "<class 'pandas.core.frame.DataFrame'>\n",
      "RangeIndex: 717 entries, 0 to 716\n",
      "Data columns (total 10 columns):\n",
      " #   Column               Non-Null Count  Dtype         \n",
      "---  ------               --------------  -----         \n",
      " 0   ID_hecho             717 non-null    object        \n",
      " 1   FECHA                717 non-null    datetime64[ns]\n",
      " 2   AAAA                 717 non-null    int64         \n",
      " 3   MM                   717 non-null    int64         \n",
      " 4   DD                   717 non-null    int64         \n",
      " 5   ROL                  717 non-null    object        \n",
      " 6   VICTIMA              717 non-null    object        \n",
      " 7   SEXO                 717 non-null    object        \n",
      " 8   EDAD                 717 non-null    object        \n",
      " 9   FECHA_FALLECIMIENTO  717 non-null    object        \n",
      "dtypes: datetime64[ns](1), int64(3), object(6)\n",
      "memory usage: 56.1+ KB\n"
     ]
    }
   ],
   "source": [
    "dfVictimasH.info()"
   ]
  },
  {
   "cell_type": "code",
   "execution_count": 14,
   "metadata": {},
   "outputs": [
    {
     "data": {
      "text/plain": [
       "ID_hecho               0.0\n",
       "FECHA                  0.0\n",
       "AAAA                   0.0\n",
       "MM                     0.0\n",
       "DD                     0.0\n",
       "ROL                    0.0\n",
       "VICTIMA                0.0\n",
       "SEXO                   0.0\n",
       "EDAD                   0.0\n",
       "FECHA_FALLECIMIENTO    0.0\n",
       "dtype: float64"
      ]
     },
     "execution_count": 14,
     "metadata": {},
     "output_type": "execute_result"
    }
   ],
   "source": [
    "nulosVicH = dfVictimasH.isnull().sum()\n",
    "porcentajeVicH = (nulosVicH/dfVictimasH.shape[0])*100\n",
    "porcentajeVicH"
   ]
  },
  {
   "cell_type": "markdown",
   "metadata": {},
   "source": [
    "*Revisamos el dataframe **Lesiones**:*\n",
    "\n",
    "1. *Se observa que existen varias columnas que contienen datos nulos, las que mayor porcentaje tienen son: Calle, Altura, Cruce*\n",
    "2. *Existen tres tipos de datos en el dataframe: object, int y float.*"
   ]
  },
  {
   "cell_type": "code",
   "execution_count": 15,
   "metadata": {},
   "outputs": [
    {
     "name": "stdout",
     "output_type": "stream",
     "text": [
      "<class 'pandas.core.frame.DataFrame'>\n",
      "RangeIndex: 23785 entries, 0 to 23784\n",
      "Data columns (total 27 columns):\n",
      " #   Column                 Non-Null Count  Dtype  \n",
      "---  ------                 --------------  -----  \n",
      " 0   id                     23785 non-null  object \n",
      " 1   n_victimas             23785 non-null  int64  \n",
      " 2   aaaa                   23785 non-null  int64  \n",
      " 3   mm                     23785 non-null  int64  \n",
      " 4   dd                     23785 non-null  int64  \n",
      " 5   fecha                  23785 non-null  object \n",
      " 6   hora                   23785 non-null  object \n",
      " 7   franja_hora            23780 non-null  object \n",
      " 8   direccion_normalizada  23732 non-null  object \n",
      " 9   comuna                 23616 non-null  object \n",
      " 10  tipo_calle             23785 non-null  object \n",
      " 11  otra_direccion         23785 non-null  object \n",
      " 12  calle                  12867 non-null  object \n",
      " 13  altura                 12771 non-null  float64\n",
      " 14  cruce                  9407 non-null   object \n",
      " 15  geocodificacion_CABA   23746 non-null  object \n",
      " 16  longitud               23523 non-null  object \n",
      " 17  latutid                23523 non-null  object \n",
      " 18  victima                23785 non-null  object \n",
      " 19  acusado                23785 non-null  object \n",
      " 20  participantes          23785 non-null  object \n",
      " 21  moto                   23692 non-null  object \n",
      " 22  auto                   23692 non-null  object \n",
      " 23  transporte_publico     23692 non-null  object \n",
      " 24  camion                 23692 non-null  object \n",
      " 25  ciclista               23692 non-null  object \n",
      " 26  gravedad               23785 non-null  object \n",
      "dtypes: float64(1), int64(4), object(22)\n",
      "memory usage: 4.9+ MB\n"
     ]
    }
   ],
   "source": [
    "dfLesiones.info()"
   ]
  },
  {
   "cell_type": "code",
   "execution_count": 16,
   "metadata": {},
   "outputs": [
    {
     "data": {
      "text/plain": [
       "id                        0.000000\n",
       "n_victimas                0.000000\n",
       "aaaa                      0.000000\n",
       "mm                        0.000000\n",
       "dd                        0.000000\n",
       "fecha                     0.000000\n",
       "hora                      0.000000\n",
       "franja_hora               0.021022\n",
       "direccion_normalizada     0.222830\n",
       "comuna                    0.710532\n",
       "tipo_calle                0.000000\n",
       "otra_direccion            0.000000\n",
       "calle                    45.902880\n",
       "altura                   46.306496\n",
       "cruce                    60.449863\n",
       "geocodificacion_CABA      0.163969\n",
       "longitud                  1.101535\n",
       "latutid                   1.101535\n",
       "victima                   0.000000\n",
       "acusado                   0.000000\n",
       "participantes             0.000000\n",
       "moto                      0.391003\n",
       "auto                      0.391003\n",
       "transporte_publico        0.391003\n",
       "camion                    0.391003\n",
       "ciclista                  0.391003\n",
       "gravedad                  0.000000\n",
       "dtype: float64"
      ]
     },
     "execution_count": 16,
     "metadata": {},
     "output_type": "execute_result"
    }
   ],
   "source": [
    "nulosLes = dfLesiones.isnull().sum()\n",
    "porcentajeLes = (nulosLes/dfLesiones.shape[0])*100\n",
    "porcentajeLes"
   ]
  },
  {
   "cell_type": "markdown",
   "metadata": {},
   "source": [
    "*Revisamos el dataframe **Victimas Lesiones**:*\n",
    "\n",
    "1. *Se observa que no existen valores nulos.*\n",
    "2. *Existen tres tipos de datos en el dataframe: object, int y datetime.*"
   ]
  },
  {
   "cell_type": "code",
   "execution_count": 17,
   "metadata": {},
   "outputs": [
    {
     "name": "stdout",
     "output_type": "stream",
     "text": [
      "<class 'pandas.core.frame.DataFrame'>\n",
      "RangeIndex: 27605 entries, 0 to 27604\n",
      "Data columns (total 9 columns):\n",
      " #   Column            Non-Null Count  Dtype         \n",
      "---  ------            --------------  -----         \n",
      " 0   ID hecho          27605 non-null  object        \n",
      " 1   AAA               27605 non-null  int64         \n",
      " 2   MM                27605 non-null  int64         \n",
      " 3   DD                27605 non-null  int64         \n",
      " 4   FECHA             27605 non-null  datetime64[ns]\n",
      " 5   VEHICULO_VICTIMA  27605 non-null  object        \n",
      " 6   SEXO              27605 non-null  object        \n",
      " 7   EDAD_VICTIMA      27605 non-null  object        \n",
      " 8   GRAVEDAD          27605 non-null  object        \n",
      "dtypes: datetime64[ns](1), int64(3), object(5)\n",
      "memory usage: 1.9+ MB\n"
     ]
    }
   ],
   "source": [
    "dfVictimasL.info()"
   ]
  },
  {
   "cell_type": "code",
   "execution_count": 18,
   "metadata": {},
   "outputs": [
    {
     "data": {
      "text/plain": [
       "ID hecho            0.0\n",
       "AAA                 0.0\n",
       "MM                  0.0\n",
       "DD                  0.0\n",
       "FECHA               0.0\n",
       "VEHICULO_VICTIMA    0.0\n",
       "SEXO                0.0\n",
       "EDAD_VICTIMA        0.0\n",
       "GRAVEDAD            0.0\n",
       "dtype: float64"
      ]
     },
     "execution_count": 18,
     "metadata": {},
     "output_type": "execute_result"
    }
   ],
   "source": [
    "nulosVicLes = dfVictimasL.isnull().sum()\n",
    "porcentajeVicLes = (nulosVicLes/dfVictimasL.shape[0])*100\n",
    "porcentajeVicLes"
   ]
  },
  {
   "cell_type": "markdown",
   "metadata": {},
   "source": [
    "#### **Modelado de los datos** ####\n",
    "\n",
    "*Con el fin de mejorar la lectura e integración de los datos, se crea un modelo de relaciones con las siguientes tablas:*"
   ]
  },
  {
   "cell_type": "markdown",
   "metadata": {},
   "source": [
    "1. **Tabla SiniestrosCABA**\n",
    "\n",
    "| Variable            | Definición                                               |Tipo de Dato| Tipo de Variable       |\n",
    "|:--------------------|:---------------------------------------------------------|:----------:|:-----------------------|\n",
    "| IdSiniestro         | Identificador único del siniestro                        | Integer    | Categórica(nominal) PK |\n",
    "| Gravedad            | Si el siniestro tuvo muertos, heridos o solo daños       | Integer    | Categórica(nominal)    |\n",
    "| NumeroVictimas      | Cantidad total de personas afectadas por el siniestro    | Integer    | Numérica(discréta)     |\n",
    "| Año                 | Año en el que sucedió el siniestro                       | String     | Categórica(ordinal)    |\n",
    "| Mes                 | Mes en el que sucedió el siniestro                       | String     | Categórica(ordinal)    |\n",
    "| Dia                 | Día en el que sucedió el siniestro                       | String     | Catégorica(ordinal)    |\n",
    "| Hora                | Hora del día en que sucedió el siniestro                 | String     | Categórica(ordinal)    |\n",
    "| IdTransporteVictima | Id del vehículo que fue víctima del accidente            | Integer    | Categórica(Nominal) FK |\n",
    "| IdTransporteAcusado | Id del vehículo acusado como causante del accidente      | Integer    | Categórica(Nominal) FK |\n",
    "| Fecha               | Fecha completa                                           | DateTime   | Categórica(ordinal)    |\n",
    "| DiaSemana           | Dia de la semana en que sucedió el siniestro             | String     | Categórica(nominal)    |"
   ]
  },
  {
   "cell_type": "markdown",
   "metadata": {},
   "source": [
    "2. **Tabla ActoresViales**\n",
    "\n",
    "| Variable       | Definición                            | Tipo de Dato | Tipo de Variable       |\n",
    "|:---------------|:--------------------------------------|:------------:|:-----------------------|\n",
    "| IdActorVial    | Identificador único del actor vial    | Integer      | Categórica(nominal) PK |\n",
    "| Nombre         | Peatón, Conductor, Pasajero, Ciclista | String       | Categórica(nominal)    |"
   ]
  },
  {
   "cell_type": "markdown",
   "metadata": {},
   "source": [
    "3. **Tabla ModosTransporte**\n",
    "\n",
    "| Variable         | Definición                                 | Tipo de Dato | Tipo de Variable       |\n",
    "|:-----------------|:-------------------------------------------|:------------:|:-----------------------|\n",
    "| IdModoTransporte | Identificador único del modo de transporte | Integer      | Categórica(nominal) PK |\n",
    "| Nombre           | A Pie, Vehículo Particular, Motocicleta... | String       | Categórica(nominal)    |"
   ]
  },
  {
   "cell_type": "markdown",
   "metadata": {},
   "source": [
    "4. **Tabla SiniestrosLocs**\n",
    "\n",
    "| Variable       | Definición                                               |Tipo de Dato| Tipo de Variable       |\n",
    "|:---------------|:---------------------------------------------------------|:----------:|:-----------------------|\n",
    "| IdSiniestro    | Identificador único del siniestro                        | Integer    | Categórica(nominal) FK |\n",
    "| Longitud       | Longitud de la ubicación del lugar del siniestro         | Float      | Localización           |\n",
    "| Latitud        | Latitud de la ubicación del lugar del siniestro          | Float      | Localización           |\n",
    "| IdComuna       | Identificador de la comuna en donde ocurrió el siniestro | Integer    | Categórica(nominal)    |\n",
    "| TipoVía        | Tipo de vía en donde ocurrió el siniestro                | String     | Categórica(nominal)    |\n",
    "| NombreVía      | Nombre de la vía sobre la cual ocurrió el siniestro      | String     | Catégorica(nominal)    |"
   ]
  },
  {
   "cell_type": "markdown",
   "metadata": {},
   "source": [
    "5. **Tabla Víctimas**\n",
    "\n",
    "| Variable       | Definición                                                 |Tipo de Dato| Tipo de Variable       |\n",
    "|:---------------|:-----------------------------------------------------------|:----------:|:-----------------------|\n",
    "| IdSiniestro    | Identificador único del siniestro                          | Integer    | Categórica(nominal) FK |\n",
    "| IdActorVictima | Identificador del actor vial que fue victima del siniestro | Integer    | Categórica(nominal) FK |\n",
    "| IdModoVictima  | Identificador del modo vial que fue victima del siniestro  | Integer    | Categórica(nominal) FK |\n",
    "| SexoVictima    | Sexo del actor vial víctima                                | String     | Categórica(nominal)    |\n",
    "| EdadVictima    | Edad del actor vial víctima                                | Integer    | Numerica(discréta)     |\n",
    "| TipoVíctima    | Victima Fatal, Victima Herida, Victima Ilesa               | String     | Categórica(nominal)    |"
   ]
  },
  {
   "cell_type": "markdown",
   "metadata": {},
   "source": [
    "### **Creación de las tablas** ###\n",
    "---\n",
    "\n",
    "*A partir de este momento realizaremos la construcción de las tablas tomando como base el modelo construído y usando como fuente de datos los dataframes.*\n",
    "\n",
    "1. *Pero antes de esto, modificaremos los id de los siniestros en los dataframes, con el fin de solo convertirlos en números y hacer más eficiente las consultas.*"
   ]
  },
  {
   "cell_type": "code",
   "execution_count": 19,
   "metadata": {},
   "outputs": [],
   "source": [
    "dfHomicidios[\"ID\"] = dfHomicidios[\"ID\"].str.replace('-', '')\n",
    "dfVictimasH[\"ID_hecho\"] = dfVictimasH[\"ID_hecho\"].str.replace('-', '')"
   ]
  },
  {
   "cell_type": "code",
   "execution_count": 20,
   "metadata": {},
   "outputs": [
    {
     "data": {
      "text/html": [
       "<div>\n",
       "<style scoped>\n",
       "    .dataframe tbody tr th:only-of-type {\n",
       "        vertical-align: middle;\n",
       "    }\n",
       "\n",
       "    .dataframe tbody tr th {\n",
       "        vertical-align: top;\n",
       "    }\n",
       "\n",
       "    .dataframe thead th {\n",
       "        text-align: right;\n",
       "    }\n",
       "</style>\n",
       "<table border=\"1\" class=\"dataframe\">\n",
       "  <thead>\n",
       "    <tr style=\"text-align: right;\">\n",
       "      <th></th>\n",
       "      <th>ID_hecho</th>\n",
       "      <th>FECHA</th>\n",
       "      <th>AAAA</th>\n",
       "      <th>MM</th>\n",
       "      <th>DD</th>\n",
       "      <th>ROL</th>\n",
       "      <th>VICTIMA</th>\n",
       "      <th>SEXO</th>\n",
       "      <th>EDAD</th>\n",
       "      <th>FECHA_FALLECIMIENTO</th>\n",
       "    </tr>\n",
       "  </thead>\n",
       "  <tbody>\n",
       "    <tr>\n",
       "      <th>0</th>\n",
       "      <td>20160001</td>\n",
       "      <td>2016-01-01</td>\n",
       "      <td>2016</td>\n",
       "      <td>1</td>\n",
       "      <td>1</td>\n",
       "      <td>CONDUCTOR</td>\n",
       "      <td>MOTO</td>\n",
       "      <td>MASCULINO</td>\n",
       "      <td>19</td>\n",
       "      <td>2016-01-01 00:00:00</td>\n",
       "    </tr>\n",
       "    <tr>\n",
       "      <th>1</th>\n",
       "      <td>20160002</td>\n",
       "      <td>2016-01-02</td>\n",
       "      <td>2016</td>\n",
       "      <td>1</td>\n",
       "      <td>2</td>\n",
       "      <td>CONDUCTOR</td>\n",
       "      <td>AUTO</td>\n",
       "      <td>MASCULINO</td>\n",
       "      <td>70</td>\n",
       "      <td>2016-01-02 00:00:00</td>\n",
       "    </tr>\n",
       "    <tr>\n",
       "      <th>2</th>\n",
       "      <td>20160003</td>\n",
       "      <td>2016-01-03</td>\n",
       "      <td>2016</td>\n",
       "      <td>1</td>\n",
       "      <td>3</td>\n",
       "      <td>CONDUCTOR</td>\n",
       "      <td>MOTO</td>\n",
       "      <td>MASCULINO</td>\n",
       "      <td>30</td>\n",
       "      <td>2016-01-03 00:00:00</td>\n",
       "    </tr>\n",
       "    <tr>\n",
       "      <th>3</th>\n",
       "      <td>20160004</td>\n",
       "      <td>2016-01-10</td>\n",
       "      <td>2016</td>\n",
       "      <td>1</td>\n",
       "      <td>10</td>\n",
       "      <td>CONDUCTOR</td>\n",
       "      <td>MOTO</td>\n",
       "      <td>MASCULINO</td>\n",
       "      <td>18</td>\n",
       "      <td>SD</td>\n",
       "    </tr>\n",
       "    <tr>\n",
       "      <th>4</th>\n",
       "      <td>20160005</td>\n",
       "      <td>2016-01-21</td>\n",
       "      <td>2016</td>\n",
       "      <td>1</td>\n",
       "      <td>21</td>\n",
       "      <td>CONDUCTOR</td>\n",
       "      <td>MOTO</td>\n",
       "      <td>MASCULINO</td>\n",
       "      <td>29</td>\n",
       "      <td>2016-02-01 00:00:00</td>\n",
       "    </tr>\n",
       "    <tr>\n",
       "      <th>...</th>\n",
       "      <td>...</td>\n",
       "      <td>...</td>\n",
       "      <td>...</td>\n",
       "      <td>...</td>\n",
       "      <td>...</td>\n",
       "      <td>...</td>\n",
       "      <td>...</td>\n",
       "      <td>...</td>\n",
       "      <td>...</td>\n",
       "      <td>...</td>\n",
       "    </tr>\n",
       "    <tr>\n",
       "      <th>712</th>\n",
       "      <td>20210092</td>\n",
       "      <td>2021-12-12</td>\n",
       "      <td>2021</td>\n",
       "      <td>12</td>\n",
       "      <td>12</td>\n",
       "      <td>PEATON</td>\n",
       "      <td>PEATON</td>\n",
       "      <td>FEMENINO</td>\n",
       "      <td>50</td>\n",
       "      <td>2021-12-12 00:00:00</td>\n",
       "    </tr>\n",
       "    <tr>\n",
       "      <th>713</th>\n",
       "      <td>20210093</td>\n",
       "      <td>2021-12-13</td>\n",
       "      <td>2021</td>\n",
       "      <td>12</td>\n",
       "      <td>13</td>\n",
       "      <td>PASAJERO_ACOMPAÑANTE</td>\n",
       "      <td>MOTO</td>\n",
       "      <td>FEMENINO</td>\n",
       "      <td>18</td>\n",
       "      <td>2021-12-18 00:00:00</td>\n",
       "    </tr>\n",
       "    <tr>\n",
       "      <th>714</th>\n",
       "      <td>20210094</td>\n",
       "      <td>2021-12-20</td>\n",
       "      <td>2021</td>\n",
       "      <td>12</td>\n",
       "      <td>20</td>\n",
       "      <td>PASAJERO_ACOMPAÑANTE</td>\n",
       "      <td>MOTO</td>\n",
       "      <td>FEMENINO</td>\n",
       "      <td>43</td>\n",
       "      <td>2021-12-20 00:00:00</td>\n",
       "    </tr>\n",
       "    <tr>\n",
       "      <th>715</th>\n",
       "      <td>20210095</td>\n",
       "      <td>2021-12-30</td>\n",
       "      <td>2021</td>\n",
       "      <td>12</td>\n",
       "      <td>30</td>\n",
       "      <td>CONDUCTOR</td>\n",
       "      <td>MOTO</td>\n",
       "      <td>MASCULINO</td>\n",
       "      <td>27</td>\n",
       "      <td>2022-01-02 00:00:00</td>\n",
       "    </tr>\n",
       "    <tr>\n",
       "      <th>716</th>\n",
       "      <td>20210096</td>\n",
       "      <td>2021-12-15</td>\n",
       "      <td>2021</td>\n",
       "      <td>12</td>\n",
       "      <td>15</td>\n",
       "      <td>CONDUCTOR</td>\n",
       "      <td>AUTO</td>\n",
       "      <td>MASCULINO</td>\n",
       "      <td>60</td>\n",
       "      <td>2021-12-20 00:00:00</td>\n",
       "    </tr>\n",
       "  </tbody>\n",
       "</table>\n",
       "<p>717 rows × 10 columns</p>\n",
       "</div>"
      ],
      "text/plain": [
       "     ID_hecho      FECHA  AAAA  MM  DD                   ROL VICTIMA  \\\n",
       "0    20160001 2016-01-01  2016   1   1             CONDUCTOR    MOTO   \n",
       "1    20160002 2016-01-02  2016   1   2             CONDUCTOR    AUTO   \n",
       "2    20160003 2016-01-03  2016   1   3             CONDUCTOR    MOTO   \n",
       "3    20160004 2016-01-10  2016   1  10             CONDUCTOR    MOTO   \n",
       "4    20160005 2016-01-21  2016   1  21             CONDUCTOR    MOTO   \n",
       "..        ...        ...   ...  ..  ..                   ...     ...   \n",
       "712  20210092 2021-12-12  2021  12  12                PEATON  PEATON   \n",
       "713  20210093 2021-12-13  2021  12  13  PASAJERO_ACOMPAÑANTE    MOTO   \n",
       "714  20210094 2021-12-20  2021  12  20  PASAJERO_ACOMPAÑANTE    MOTO   \n",
       "715  20210095 2021-12-30  2021  12  30             CONDUCTOR    MOTO   \n",
       "716  20210096 2021-12-15  2021  12  15             CONDUCTOR    AUTO   \n",
       "\n",
       "          SEXO EDAD  FECHA_FALLECIMIENTO  \n",
       "0    MASCULINO   19  2016-01-01 00:00:00  \n",
       "1    MASCULINO   70  2016-01-02 00:00:00  \n",
       "2    MASCULINO   30  2016-01-03 00:00:00  \n",
       "3    MASCULINO   18                   SD  \n",
       "4    MASCULINO   29  2016-02-01 00:00:00  \n",
       "..         ...  ...                  ...  \n",
       "712   FEMENINO   50  2021-12-12 00:00:00  \n",
       "713   FEMENINO   18  2021-12-18 00:00:00  \n",
       "714   FEMENINO   43  2021-12-20 00:00:00  \n",
       "715  MASCULINO   27  2022-01-02 00:00:00  \n",
       "716  MASCULINO   60  2021-12-20 00:00:00  \n",
       "\n",
       "[717 rows x 10 columns]"
      ]
     },
     "execution_count": 20,
     "metadata": {},
     "output_type": "execute_result"
    }
   ],
   "source": [
    "dfVictimasH"
   ]
  },
  {
   "cell_type": "code",
   "execution_count": 21,
   "metadata": {},
   "outputs": [],
   "source": [
    "dfLesiones[\"id\"] = dfLesiones[\"id\"].str.slice(start=3)\n",
    "dfLesiones[\"id\"] = dfLesiones[\"id\"].str.replace('-', '')\n",
    "\n",
    "dfVictimasL[\"ID hecho\"] = dfVictimasL[\"ID hecho\"].str.slice(start=3)\n",
    "dfVictimasL[\"ID hecho\"] = dfVictimasL[\"ID hecho\"].str.replace('-', '')"
   ]
  },
  {
   "cell_type": "markdown",
   "metadata": {},
   "source": [
    "#### Dataframe ActoresViales ####\n",
    "\n",
    "*Este dataframe contiene información de la posición o rol que ocupaba la persona al momento del siniestro:*"
   ]
  },
  {
   "cell_type": "code",
   "execution_count": 22,
   "metadata": {},
   "outputs": [],
   "source": [
    "dfActores = pd.DataFrame({\"IdActor\":[1,2,3,4,5], \"Actor\":[\"Peatón\", \"Ciclista\", \"Conductor\", \"Pasajero\", \"Motociclista\"]})"
   ]
  },
  {
   "cell_type": "code",
   "execution_count": 23,
   "metadata": {},
   "outputs": [
    {
     "data": {
      "text/html": [
       "<div>\n",
       "<style scoped>\n",
       "    .dataframe tbody tr th:only-of-type {\n",
       "        vertical-align: middle;\n",
       "    }\n",
       "\n",
       "    .dataframe tbody tr th {\n",
       "        vertical-align: top;\n",
       "    }\n",
       "\n",
       "    .dataframe thead th {\n",
       "        text-align: right;\n",
       "    }\n",
       "</style>\n",
       "<table border=\"1\" class=\"dataframe\">\n",
       "  <thead>\n",
       "    <tr style=\"text-align: right;\">\n",
       "      <th></th>\n",
       "      <th>IdActor</th>\n",
       "      <th>Actor</th>\n",
       "    </tr>\n",
       "  </thead>\n",
       "  <tbody>\n",
       "    <tr>\n",
       "      <th>0</th>\n",
       "      <td>1</td>\n",
       "      <td>Peatón</td>\n",
       "    </tr>\n",
       "    <tr>\n",
       "      <th>1</th>\n",
       "      <td>2</td>\n",
       "      <td>Ciclista</td>\n",
       "    </tr>\n",
       "    <tr>\n",
       "      <th>2</th>\n",
       "      <td>3</td>\n",
       "      <td>Conductor</td>\n",
       "    </tr>\n",
       "    <tr>\n",
       "      <th>3</th>\n",
       "      <td>4</td>\n",
       "      <td>Pasajero</td>\n",
       "    </tr>\n",
       "    <tr>\n",
       "      <th>4</th>\n",
       "      <td>5</td>\n",
       "      <td>Motociclista</td>\n",
       "    </tr>\n",
       "  </tbody>\n",
       "</table>\n",
       "</div>"
      ],
      "text/plain": [
       "   IdActor         Actor\n",
       "0        1        Peatón\n",
       "1        2      Ciclista\n",
       "2        3     Conductor\n",
       "3        4      Pasajero\n",
       "4        5  Motociclista"
      ]
     },
     "execution_count": 23,
     "metadata": {},
     "output_type": "execute_result"
    }
   ],
   "source": [
    "dfActores"
   ]
  },
  {
   "cell_type": "markdown",
   "metadata": {},
   "source": [
    "#### Dataframe ModosTransporte ####\n",
    "\n",
    "*Este dataframe contiene información del modo de transporte involucrado en el siniestro:*\n",
    "\n",
    "1. *Para esto nos basamos en los datos de los dataframes Homicidios y Lesiones.*"
   ]
  },
  {
   "cell_type": "code",
   "execution_count": 24,
   "metadata": {},
   "outputs": [
    {
     "data": {
      "text/plain": [
       "ACUSADO\n",
       "AUTO           204\n",
       "PASAJEROS      173\n",
       "CARGAS         146\n",
       "OBJETO FIJO     62\n",
       "MOTO            57\n",
       "SD              23\n",
       "MULTIPLE        17\n",
       "BICICLETA        7\n",
       "OTRO             6\n",
       "TREN             1\n",
       "Name: count, dtype: int64"
      ]
     },
     "execution_count": 24,
     "metadata": {},
     "output_type": "execute_result"
    }
   ],
   "source": [
    "dfHomicidios.ACUSADO.value_counts()"
   ]
  },
  {
   "cell_type": "code",
   "execution_count": 25,
   "metadata": {},
   "outputs": [],
   "source": [
    "dfModos = pd.DataFrame({\"IdModo\":[1,2,3,4,5,6,7,8,9,10,11,12,13],\n",
    "                        \"Modo\":[\"A Pie\", \"Bicicleta\",\"Patineta\", \"Autómovil\",\"Camioneta\", \"Motocicleta\", \"Transporte Público\",\n",
    "                                \"Taxi\", \"Transporte de Carga\", \"Transporte de Emergencia\", \"Objeto Inmovil\", \"Multiple\", \"Otro\"]})"
   ]
  },
  {
   "cell_type": "code",
   "execution_count": 26,
   "metadata": {},
   "outputs": [
    {
     "data": {
      "text/html": [
       "<div>\n",
       "<style scoped>\n",
       "    .dataframe tbody tr th:only-of-type {\n",
       "        vertical-align: middle;\n",
       "    }\n",
       "\n",
       "    .dataframe tbody tr th {\n",
       "        vertical-align: top;\n",
       "    }\n",
       "\n",
       "    .dataframe thead th {\n",
       "        text-align: right;\n",
       "    }\n",
       "</style>\n",
       "<table border=\"1\" class=\"dataframe\">\n",
       "  <thead>\n",
       "    <tr style=\"text-align: right;\">\n",
       "      <th></th>\n",
       "      <th>IdModo</th>\n",
       "      <th>Modo</th>\n",
       "    </tr>\n",
       "  </thead>\n",
       "  <tbody>\n",
       "    <tr>\n",
       "      <th>0</th>\n",
       "      <td>1</td>\n",
       "      <td>A Pie</td>\n",
       "    </tr>\n",
       "    <tr>\n",
       "      <th>1</th>\n",
       "      <td>2</td>\n",
       "      <td>Bicicleta</td>\n",
       "    </tr>\n",
       "    <tr>\n",
       "      <th>2</th>\n",
       "      <td>3</td>\n",
       "      <td>Patineta</td>\n",
       "    </tr>\n",
       "    <tr>\n",
       "      <th>3</th>\n",
       "      <td>4</td>\n",
       "      <td>Autómovil</td>\n",
       "    </tr>\n",
       "    <tr>\n",
       "      <th>4</th>\n",
       "      <td>5</td>\n",
       "      <td>Camioneta</td>\n",
       "    </tr>\n",
       "    <tr>\n",
       "      <th>5</th>\n",
       "      <td>6</td>\n",
       "      <td>Motocicleta</td>\n",
       "    </tr>\n",
       "    <tr>\n",
       "      <th>6</th>\n",
       "      <td>7</td>\n",
       "      <td>Transporte Público</td>\n",
       "    </tr>\n",
       "    <tr>\n",
       "      <th>7</th>\n",
       "      <td>8</td>\n",
       "      <td>Taxi</td>\n",
       "    </tr>\n",
       "    <tr>\n",
       "      <th>8</th>\n",
       "      <td>9</td>\n",
       "      <td>Transporte de Carga</td>\n",
       "    </tr>\n",
       "    <tr>\n",
       "      <th>9</th>\n",
       "      <td>10</td>\n",
       "      <td>Transporte de Emergencia</td>\n",
       "    </tr>\n",
       "    <tr>\n",
       "      <th>10</th>\n",
       "      <td>11</td>\n",
       "      <td>Objeto Inmovil</td>\n",
       "    </tr>\n",
       "    <tr>\n",
       "      <th>11</th>\n",
       "      <td>12</td>\n",
       "      <td>Multiple</td>\n",
       "    </tr>\n",
       "    <tr>\n",
       "      <th>12</th>\n",
       "      <td>13</td>\n",
       "      <td>Otro</td>\n",
       "    </tr>\n",
       "  </tbody>\n",
       "</table>\n",
       "</div>"
      ],
      "text/plain": [
       "    IdModo                      Modo\n",
       "0        1                     A Pie\n",
       "1        2                 Bicicleta\n",
       "2        3                  Patineta\n",
       "3        4                 Autómovil\n",
       "4        5                 Camioneta\n",
       "5        6               Motocicleta\n",
       "6        7        Transporte Público\n",
       "7        8                      Taxi\n",
       "8        9       Transporte de Carga\n",
       "9       10  Transporte de Emergencia\n",
       "10      11            Objeto Inmovil\n",
       "11      12                  Multiple\n",
       "12      13                      Otro"
      ]
     },
     "execution_count": 26,
     "metadata": {},
     "output_type": "execute_result"
    }
   ],
   "source": [
    "dfModos"
   ]
  },
  {
   "cell_type": "markdown",
   "metadata": {},
   "source": [
    "#### Dataframe SiniestrosCABA ####\n",
    "\n",
    "*Para crear este dataframe debemos basarnos en los dataframes homicidios y lesiones.*"
   ]
  },
  {
   "cell_type": "markdown",
   "metadata": {},
   "source": [
    "*Almacenamos en dfHomicidios1 solo las columnas que necesitaremos:*\n",
    "\n",
    "1. *Cambiamos el nombre de las columnas*.\n",
    "2. *Agregamos la columna Gravedad y aplicamos a todos los registros \"Victimas Mortales\" ya que este dataset corresponde a homicidios(muertos)*."
   ]
  },
  {
   "cell_type": "code",
   "execution_count": 27,
   "metadata": {},
   "outputs": [
    {
     "data": {
      "text/html": [
       "<div>\n",
       "<style scoped>\n",
       "    .dataframe tbody tr th:only-of-type {\n",
       "        vertical-align: middle;\n",
       "    }\n",
       "\n",
       "    .dataframe tbody tr th {\n",
       "        vertical-align: top;\n",
       "    }\n",
       "\n",
       "    .dataframe thead th {\n",
       "        text-align: right;\n",
       "    }\n",
       "</style>\n",
       "<table border=\"1\" class=\"dataframe\">\n",
       "  <thead>\n",
       "    <tr style=\"text-align: right;\">\n",
       "      <th></th>\n",
       "      <th>IdSiniestro</th>\n",
       "      <th>NumeroVictimas</th>\n",
       "      <th>Año</th>\n",
       "      <th>Mes</th>\n",
       "      <th>Dia</th>\n",
       "      <th>Hora</th>\n",
       "      <th>Victima</th>\n",
       "      <th>Acusado</th>\n",
       "      <th>Gravedad</th>\n",
       "    </tr>\n",
       "  </thead>\n",
       "  <tbody>\n",
       "    <tr>\n",
       "      <th>0</th>\n",
       "      <td>20160001</td>\n",
       "      <td>1</td>\n",
       "      <td>2016</td>\n",
       "      <td>1</td>\n",
       "      <td>1</td>\n",
       "      <td>4</td>\n",
       "      <td>MOTO</td>\n",
       "      <td>AUTO</td>\n",
       "      <td>Victimas Mortales</td>\n",
       "    </tr>\n",
       "    <tr>\n",
       "      <th>1</th>\n",
       "      <td>20160002</td>\n",
       "      <td>1</td>\n",
       "      <td>2016</td>\n",
       "      <td>1</td>\n",
       "      <td>2</td>\n",
       "      <td>1</td>\n",
       "      <td>AUTO</td>\n",
       "      <td>PASAJEROS</td>\n",
       "      <td>Victimas Mortales</td>\n",
       "    </tr>\n",
       "    <tr>\n",
       "      <th>2</th>\n",
       "      <td>20160003</td>\n",
       "      <td>1</td>\n",
       "      <td>2016</td>\n",
       "      <td>1</td>\n",
       "      <td>3</td>\n",
       "      <td>7</td>\n",
       "      <td>MOTO</td>\n",
       "      <td>AUTO</td>\n",
       "      <td>Victimas Mortales</td>\n",
       "    </tr>\n",
       "  </tbody>\n",
       "</table>\n",
       "</div>"
      ],
      "text/plain": [
       "  IdSiniestro  NumeroVictimas   Año  Mes  Dia Hora Victima    Acusado  \\\n",
       "0    20160001               1  2016    1    1    4    MOTO       AUTO   \n",
       "1    20160002               1  2016    1    2    1    AUTO  PASAJEROS   \n",
       "2    20160003               1  2016    1    3    7    MOTO       AUTO   \n",
       "\n",
       "            Gravedad  \n",
       "0  Victimas Mortales  \n",
       "1  Victimas Mortales  \n",
       "2  Victimas Mortales  "
      ]
     },
     "execution_count": 27,
     "metadata": {},
     "output_type": "execute_result"
    }
   ],
   "source": [
    "dfHomicidios1 = dfHomicidios[[\"ID\", \"N_VICTIMAS\", \"AAAA\", \"MM\", \"DD\", \"HH\", \"VICTIMA\", \"ACUSADO\"]].copy()\n",
    "\n",
    "dfHomicidios1.columns = ['IdSiniestro', 'NumeroVictimas', \"Año\", \"Mes\", \"Dia\", \"Hora\", \"Victima\", \"Acusado\"]\n",
    "\n",
    "dfHomicidios1[\"Gravedad\"] = \"Victimas Mortales\"\n",
    "\n",
    "dfHomicidios1.head(3)"
   ]
  },
  {
   "cell_type": "markdown",
   "metadata": {},
   "source": [
    "*Almacenamos en dfLesiones1 solo las columnas que necesitaremos:*\n",
    "\n",
    "1. *Cambiamos el nombre de las columnas*.\n",
    "2. *Revisamos la columna gravedad para determinar que valores existen*.\n",
    "3. *Observamos que hay datos SD sin datos, decidimos para este caso imputar este valor como \"Victimas Heridas Leves\".\n",
    "4. *Observamos que hay datos GRAVE, decidimos para este caso imputar este valor como \"Victimas Heridas Graves\".\n",
    "5. *Observamos que hay datos FATAL, decidimos para este caso imputar este valor como \"Victimas Mortales\"."
   ]
  },
  {
   "cell_type": "code",
   "execution_count": 28,
   "metadata": {},
   "outputs": [
    {
     "data": {
      "text/plain": [
       "Gravedad\n",
       "SD       23056\n",
       "GRAVE      642\n",
       "sd          83\n",
       "FATAL        3\n",
       "grave        1\n",
       "Name: count, dtype: int64"
      ]
     },
     "execution_count": 28,
     "metadata": {},
     "output_type": "execute_result"
    }
   ],
   "source": [
    "dfLesiones1 = dfLesiones[[\"id\", \"n_victimas\", \"aaaa\", \"mm\", \"dd\", \"franja_hora\", \"victima\", \"acusado\", \"gravedad\"]].copy()\n",
    "\n",
    "dfLesiones1.columns = ['IdSiniestro', 'NumeroVictimas', \"Año\", \"Mes\", \"Dia\", \"Hora\", \"Victima\", \"Acusado\", \"Gravedad\"]\n",
    "\n",
    "dfLesiones1.Gravedad.value_counts()"
   ]
  },
  {
   "cell_type": "code",
   "execution_count": 29,
   "metadata": {},
   "outputs": [],
   "source": [
    "dfLesiones1[\"Gravedad\"] = dfLesiones1[\"Gravedad\"].replace(\"SD\", \"Victimas Heridas Leves\")\n",
    "dfLesiones1[\"Gravedad\"] = dfLesiones1[\"Gravedad\"].replace(\"GRAVE\", \"Victimas Heridas Graves\")\n",
    "dfLesiones1[\"Gravedad\"] = dfLesiones1[\"Gravedad\"].replace(\"sd\", \"Victimas Heridas Leves\")\n",
    "dfLesiones1[\"Gravedad\"] = dfLesiones1[\"Gravedad\"].replace(\"FATAL\", \"Victimas Mortales\")\n",
    "dfLesiones1[\"Gravedad\"] = dfLesiones1[\"Gravedad\"].replace(\"grave\", \"Victimas Heridas Graves\")"
   ]
  },
  {
   "cell_type": "code",
   "execution_count": 30,
   "metadata": {},
   "outputs": [
    {
     "data": {
      "text/plain": [
       "Gravedad\n",
       "Victimas Heridas Leves     23139\n",
       "Victimas Heridas Graves      643\n",
       "Victimas Mortales              3\n",
       "Name: count, dtype: int64"
      ]
     },
     "execution_count": 30,
     "metadata": {},
     "output_type": "execute_result"
    }
   ],
   "source": [
    "dfLesiones1.Gravedad.value_counts()"
   ]
  },
  {
   "cell_type": "code",
   "execution_count": 31,
   "metadata": {},
   "outputs": [
    {
     "data": {
      "text/html": [
       "<div>\n",
       "<style scoped>\n",
       "    .dataframe tbody tr th:only-of-type {\n",
       "        vertical-align: middle;\n",
       "    }\n",
       "\n",
       "    .dataframe tbody tr th {\n",
       "        vertical-align: top;\n",
       "    }\n",
       "\n",
       "    .dataframe thead th {\n",
       "        text-align: right;\n",
       "    }\n",
       "</style>\n",
       "<table border=\"1\" class=\"dataframe\">\n",
       "  <thead>\n",
       "    <tr style=\"text-align: right;\">\n",
       "      <th></th>\n",
       "      <th>IdSiniestro</th>\n",
       "      <th>NumeroVictimas</th>\n",
       "      <th>Año</th>\n",
       "      <th>Mes</th>\n",
       "      <th>Dia</th>\n",
       "      <th>Hora</th>\n",
       "      <th>Victima</th>\n",
       "      <th>Acusado</th>\n",
       "      <th>Gravedad</th>\n",
       "    </tr>\n",
       "  </thead>\n",
       "  <tbody>\n",
       "    <tr>\n",
       "      <th>0</th>\n",
       "      <td>20190000179</td>\n",
       "      <td>1</td>\n",
       "      <td>2019</td>\n",
       "      <td>1</td>\n",
       "      <td>1</td>\n",
       "      <td>9</td>\n",
       "      <td>CICLISTA</td>\n",
       "      <td>SD</td>\n",
       "      <td>Victimas Heridas Leves</td>\n",
       "    </tr>\n",
       "    <tr>\n",
       "      <th>1</th>\n",
       "      <td>20190000053</td>\n",
       "      <td>1</td>\n",
       "      <td>2019</td>\n",
       "      <td>1</td>\n",
       "      <td>1</td>\n",
       "      <td>1</td>\n",
       "      <td>AUTO</td>\n",
       "      <td>SD</td>\n",
       "      <td>Victimas Heridas Leves</td>\n",
       "    </tr>\n",
       "    <tr>\n",
       "      <th>2</th>\n",
       "      <td>20190000063</td>\n",
       "      <td>1</td>\n",
       "      <td>2019</td>\n",
       "      <td>1</td>\n",
       "      <td>1</td>\n",
       "      <td>2</td>\n",
       "      <td>SD</td>\n",
       "      <td>SD</td>\n",
       "      <td>Victimas Heridas Leves</td>\n",
       "    </tr>\n",
       "    <tr>\n",
       "      <th>3</th>\n",
       "      <td>20190000079</td>\n",
       "      <td>1</td>\n",
       "      <td>2019</td>\n",
       "      <td>1</td>\n",
       "      <td>1</td>\n",
       "      <td>2</td>\n",
       "      <td>PEATON</td>\n",
       "      <td>SD</td>\n",
       "      <td>Victimas Heridas Leves</td>\n",
       "    </tr>\n",
       "    <tr>\n",
       "      <th>4</th>\n",
       "      <td>20190000082</td>\n",
       "      <td>4</td>\n",
       "      <td>2019</td>\n",
       "      <td>1</td>\n",
       "      <td>1</td>\n",
       "      <td>4</td>\n",
       "      <td>AUTO</td>\n",
       "      <td>SD</td>\n",
       "      <td>Victimas Heridas Leves</td>\n",
       "    </tr>\n",
       "    <tr>\n",
       "      <th>...</th>\n",
       "      <td>...</td>\n",
       "      <td>...</td>\n",
       "      <td>...</td>\n",
       "      <td>...</td>\n",
       "      <td>...</td>\n",
       "      <td>...</td>\n",
       "      <td>...</td>\n",
       "      <td>...</td>\n",
       "      <td>...</td>\n",
       "    </tr>\n",
       "    <tr>\n",
       "      <th>23780</th>\n",
       "      <td>20210652849</td>\n",
       "      <td>1</td>\n",
       "      <td>2021</td>\n",
       "      <td>12</td>\n",
       "      <td>31</td>\n",
       "      <td>19</td>\n",
       "      <td>SD</td>\n",
       "      <td>SD</td>\n",
       "      <td>Victimas Heridas Leves</td>\n",
       "    </tr>\n",
       "    <tr>\n",
       "      <th>23781</th>\n",
       "      <td>20210652865</td>\n",
       "      <td>2</td>\n",
       "      <td>2021</td>\n",
       "      <td>12</td>\n",
       "      <td>31</td>\n",
       "      <td>19</td>\n",
       "      <td>SD</td>\n",
       "      <td>SD</td>\n",
       "      <td>Victimas Heridas Leves</td>\n",
       "    </tr>\n",
       "    <tr>\n",
       "      <th>23782</th>\n",
       "      <td>20210652907</td>\n",
       "      <td>1</td>\n",
       "      <td>2021</td>\n",
       "      <td>12</td>\n",
       "      <td>31</td>\n",
       "      <td>20</td>\n",
       "      <td>SD</td>\n",
       "      <td>SD</td>\n",
       "      <td>Victimas Heridas Leves</td>\n",
       "    </tr>\n",
       "    <tr>\n",
       "      <th>23783</th>\n",
       "      <td>20210652921</td>\n",
       "      <td>1</td>\n",
       "      <td>2021</td>\n",
       "      <td>12</td>\n",
       "      <td>31</td>\n",
       "      <td>22</td>\n",
       "      <td>MOTO</td>\n",
       "      <td>TRANSPORTE PUBLICO</td>\n",
       "      <td>Victimas Heridas Graves</td>\n",
       "    </tr>\n",
       "    <tr>\n",
       "      <th>23784</th>\n",
       "      <td>20200244615</td>\n",
       "      <td>1</td>\n",
       "      <td>2020</td>\n",
       "      <td>5</td>\n",
       "      <td>17</td>\n",
       "      <td>21</td>\n",
       "      <td>MOTO</td>\n",
       "      <td>AUTO</td>\n",
       "      <td>Victimas Heridas Leves</td>\n",
       "    </tr>\n",
       "  </tbody>\n",
       "</table>\n",
       "<p>23785 rows × 9 columns</p>\n",
       "</div>"
      ],
      "text/plain": [
       "       IdSiniestro  NumeroVictimas   Año  Mes  Dia Hora   Victima  \\\n",
       "0      20190000179               1  2019    1    1    9  CICLISTA   \n",
       "1      20190000053               1  2019    1    1    1      AUTO   \n",
       "2      20190000063               1  2019    1    1    2        SD   \n",
       "3      20190000079               1  2019    1    1    2    PEATON   \n",
       "4      20190000082               4  2019    1    1    4      AUTO   \n",
       "...            ...             ...   ...  ...  ...  ...       ...   \n",
       "23780  20210652849               1  2021   12   31   19        SD   \n",
       "23781  20210652865               2  2021   12   31   19        SD   \n",
       "23782  20210652907               1  2021   12   31   20        SD   \n",
       "23783  20210652921               1  2021   12   31   22      MOTO   \n",
       "23784  20200244615               1  2020    5   17   21      MOTO   \n",
       "\n",
       "                  Acusado                 Gravedad  \n",
       "0                      SD   Victimas Heridas Leves  \n",
       "1                      SD   Victimas Heridas Leves  \n",
       "2                      SD   Victimas Heridas Leves  \n",
       "3                      SD   Victimas Heridas Leves  \n",
       "4                      SD   Victimas Heridas Leves  \n",
       "...                   ...                      ...  \n",
       "23780                  SD   Victimas Heridas Leves  \n",
       "23781                  SD   Victimas Heridas Leves  \n",
       "23782                  SD   Victimas Heridas Leves  \n",
       "23783  TRANSPORTE PUBLICO  Victimas Heridas Graves  \n",
       "23784                AUTO   Victimas Heridas Leves  \n",
       "\n",
       "[23785 rows x 9 columns]"
      ]
     },
     "execution_count": 31,
     "metadata": {},
     "output_type": "execute_result"
    }
   ],
   "source": [
    "dfLesiones1"
   ]
  },
  {
   "cell_type": "markdown",
   "metadata": {},
   "source": [
    "*Concatenamos los dos dataframes:*"
   ]
  },
  {
   "cell_type": "code",
   "execution_count": 32,
   "metadata": {},
   "outputs": [
    {
     "data": {
      "text/html": [
       "<div>\n",
       "<style scoped>\n",
       "    .dataframe tbody tr th:only-of-type {\n",
       "        vertical-align: middle;\n",
       "    }\n",
       "\n",
       "    .dataframe tbody tr th {\n",
       "        vertical-align: top;\n",
       "    }\n",
       "\n",
       "    .dataframe thead th {\n",
       "        text-align: right;\n",
       "    }\n",
       "</style>\n",
       "<table border=\"1\" class=\"dataframe\">\n",
       "  <thead>\n",
       "    <tr style=\"text-align: right;\">\n",
       "      <th></th>\n",
       "      <th>IdSiniestro</th>\n",
       "      <th>NumeroVictimas</th>\n",
       "      <th>Año</th>\n",
       "      <th>Mes</th>\n",
       "      <th>Dia</th>\n",
       "      <th>Hora</th>\n",
       "      <th>Victima</th>\n",
       "      <th>Acusado</th>\n",
       "      <th>Gravedad</th>\n",
       "    </tr>\n",
       "  </thead>\n",
       "  <tbody>\n",
       "    <tr>\n",
       "      <th>0</th>\n",
       "      <td>20160001</td>\n",
       "      <td>1</td>\n",
       "      <td>2016</td>\n",
       "      <td>1</td>\n",
       "      <td>1</td>\n",
       "      <td>4</td>\n",
       "      <td>MOTO</td>\n",
       "      <td>AUTO</td>\n",
       "      <td>Victimas Mortales</td>\n",
       "    </tr>\n",
       "    <tr>\n",
       "      <th>1</th>\n",
       "      <td>20160002</td>\n",
       "      <td>1</td>\n",
       "      <td>2016</td>\n",
       "      <td>1</td>\n",
       "      <td>2</td>\n",
       "      <td>1</td>\n",
       "      <td>AUTO</td>\n",
       "      <td>PASAJEROS</td>\n",
       "      <td>Victimas Mortales</td>\n",
       "    </tr>\n",
       "    <tr>\n",
       "      <th>2</th>\n",
       "      <td>20160003</td>\n",
       "      <td>1</td>\n",
       "      <td>2016</td>\n",
       "      <td>1</td>\n",
       "      <td>3</td>\n",
       "      <td>7</td>\n",
       "      <td>MOTO</td>\n",
       "      <td>AUTO</td>\n",
       "      <td>Victimas Mortales</td>\n",
       "    </tr>\n",
       "    <tr>\n",
       "      <th>3</th>\n",
       "      <td>20160004</td>\n",
       "      <td>1</td>\n",
       "      <td>2016</td>\n",
       "      <td>1</td>\n",
       "      <td>10</td>\n",
       "      <td>0</td>\n",
       "      <td>MOTO</td>\n",
       "      <td>SD</td>\n",
       "      <td>Victimas Mortales</td>\n",
       "    </tr>\n",
       "    <tr>\n",
       "      <th>4</th>\n",
       "      <td>20160005</td>\n",
       "      <td>1</td>\n",
       "      <td>2016</td>\n",
       "      <td>1</td>\n",
       "      <td>21</td>\n",
       "      <td>5</td>\n",
       "      <td>MOTO</td>\n",
       "      <td>PASAJEROS</td>\n",
       "      <td>Victimas Mortales</td>\n",
       "    </tr>\n",
       "    <tr>\n",
       "      <th>...</th>\n",
       "      <td>...</td>\n",
       "      <td>...</td>\n",
       "      <td>...</td>\n",
       "      <td>...</td>\n",
       "      <td>...</td>\n",
       "      <td>...</td>\n",
       "      <td>...</td>\n",
       "      <td>...</td>\n",
       "      <td>...</td>\n",
       "    </tr>\n",
       "    <tr>\n",
       "      <th>23780</th>\n",
       "      <td>20210652849</td>\n",
       "      <td>1</td>\n",
       "      <td>2021</td>\n",
       "      <td>12</td>\n",
       "      <td>31</td>\n",
       "      <td>19</td>\n",
       "      <td>SD</td>\n",
       "      <td>SD</td>\n",
       "      <td>Victimas Heridas Leves</td>\n",
       "    </tr>\n",
       "    <tr>\n",
       "      <th>23781</th>\n",
       "      <td>20210652865</td>\n",
       "      <td>2</td>\n",
       "      <td>2021</td>\n",
       "      <td>12</td>\n",
       "      <td>31</td>\n",
       "      <td>19</td>\n",
       "      <td>SD</td>\n",
       "      <td>SD</td>\n",
       "      <td>Victimas Heridas Leves</td>\n",
       "    </tr>\n",
       "    <tr>\n",
       "      <th>23782</th>\n",
       "      <td>20210652907</td>\n",
       "      <td>1</td>\n",
       "      <td>2021</td>\n",
       "      <td>12</td>\n",
       "      <td>31</td>\n",
       "      <td>20</td>\n",
       "      <td>SD</td>\n",
       "      <td>SD</td>\n",
       "      <td>Victimas Heridas Leves</td>\n",
       "    </tr>\n",
       "    <tr>\n",
       "      <th>23783</th>\n",
       "      <td>20210652921</td>\n",
       "      <td>1</td>\n",
       "      <td>2021</td>\n",
       "      <td>12</td>\n",
       "      <td>31</td>\n",
       "      <td>22</td>\n",
       "      <td>MOTO</td>\n",
       "      <td>TRANSPORTE PUBLICO</td>\n",
       "      <td>Victimas Heridas Graves</td>\n",
       "    </tr>\n",
       "    <tr>\n",
       "      <th>23784</th>\n",
       "      <td>20200244615</td>\n",
       "      <td>1</td>\n",
       "      <td>2020</td>\n",
       "      <td>5</td>\n",
       "      <td>17</td>\n",
       "      <td>21</td>\n",
       "      <td>MOTO</td>\n",
       "      <td>AUTO</td>\n",
       "      <td>Victimas Heridas Leves</td>\n",
       "    </tr>\n",
       "  </tbody>\n",
       "</table>\n",
       "<p>24481 rows × 9 columns</p>\n",
       "</div>"
      ],
      "text/plain": [
       "       IdSiniestro  NumeroVictimas   Año  Mes  Dia Hora Victima  \\\n",
       "0         20160001               1  2016    1    1    4    MOTO   \n",
       "1         20160002               1  2016    1    2    1    AUTO   \n",
       "2         20160003               1  2016    1    3    7    MOTO   \n",
       "3         20160004               1  2016    1   10    0    MOTO   \n",
       "4         20160005               1  2016    1   21    5    MOTO   \n",
       "...            ...             ...   ...  ...  ...  ...     ...   \n",
       "23780  20210652849               1  2021   12   31   19      SD   \n",
       "23781  20210652865               2  2021   12   31   19      SD   \n",
       "23782  20210652907               1  2021   12   31   20      SD   \n",
       "23783  20210652921               1  2021   12   31   22    MOTO   \n",
       "23784  20200244615               1  2020    5   17   21    MOTO   \n",
       "\n",
       "                  Acusado                 Gravedad  \n",
       "0                    AUTO        Victimas Mortales  \n",
       "1               PASAJEROS        Victimas Mortales  \n",
       "2                    AUTO        Victimas Mortales  \n",
       "3                      SD        Victimas Mortales  \n",
       "4               PASAJEROS        Victimas Mortales  \n",
       "...                   ...                      ...  \n",
       "23780                  SD   Victimas Heridas Leves  \n",
       "23781                  SD   Victimas Heridas Leves  \n",
       "23782                  SD   Victimas Heridas Leves  \n",
       "23783  TRANSPORTE PUBLICO  Victimas Heridas Graves  \n",
       "23784                AUTO   Victimas Heridas Leves  \n",
       "\n",
       "[24481 rows x 9 columns]"
      ]
     },
     "execution_count": 32,
     "metadata": {},
     "output_type": "execute_result"
    }
   ],
   "source": [
    "siniestrosCABA = pd.concat([dfHomicidios1, dfLesiones1])\n",
    "siniestrosCABA"
   ]
  },
  {
   "cell_type": "markdown",
   "metadata": {},
   "source": [
    "**Revisamos cada una de las columnas**"
   ]
  },
  {
   "cell_type": "markdown",
   "metadata": {},
   "source": [
    "**Columna IdSiniestro**\n",
    "\n",
    "1. *Revisamos si existen valores repetidos*\n",
    "2. *Cambiamos el tipo de dato a **int**.*"
   ]
  },
  {
   "cell_type": "code",
   "execution_count": 33,
   "metadata": {},
   "outputs": [
    {
     "data": {
      "text/plain": [
       "IdSiniestro\n",
       "20160001       1\n",
       "20200658364    1\n",
       "20200655563    1\n",
       "20200655524    1\n",
       "20200655518    1\n",
       "              ..\n",
       "20190567622    1\n",
       "20190567566    1\n",
       "20190567553    1\n",
       "20190567520    1\n",
       "20200244615    1\n",
       "Name: count, Length: 24481, dtype: int64"
      ]
     },
     "execution_count": 33,
     "metadata": {},
     "output_type": "execute_result"
    }
   ],
   "source": [
    "siniestrosCABA.IdSiniestro.value_counts()"
   ]
  },
  {
   "cell_type": "code",
   "execution_count": 34,
   "metadata": {},
   "outputs": [],
   "source": [
    "siniestrosCABA[\"IdSiniestro\"] = siniestrosCABA[\"IdSiniestro\"].astype(np.int64)"
   ]
  },
  {
   "cell_type": "markdown",
   "metadata": {},
   "source": [
    "**Columna NumeroVictimas**\n",
    "\n",
    "1. *Revisamos si existen valores extraños.*"
   ]
  },
  {
   "cell_type": "code",
   "execution_count": 35,
   "metadata": {},
   "outputs": [
    {
     "data": {
      "text/plain": [
       "NumeroVictimas\n",
       "1     21708\n",
       "2      2144\n",
       "3       401\n",
       "4       118\n",
       "5        66\n",
       "6        21\n",
       "8        10\n",
       "7         6\n",
       "10        4\n",
       "16        2\n",
       "0         1\n",
       "Name: count, dtype: int64"
      ]
     },
     "execution_count": 35,
     "metadata": {},
     "output_type": "execute_result"
    }
   ],
   "source": [
    "siniestrosCABA.NumeroVictimas.value_counts()"
   ]
  },
  {
   "cell_type": "markdown",
   "metadata": {},
   "source": [
    "**Columnas Año, Mes, Dia**\n",
    "\n",
    "1. *Revisamos si existen valores extraños.*"
   ]
  },
  {
   "cell_type": "code",
   "execution_count": 36,
   "metadata": {},
   "outputs": [
    {
     "data": {
      "text/plain": [
       "Año\n",
       "2019    10176\n",
       "2021     7823\n",
       "2020     6064\n",
       "2016      144\n",
       "2018      143\n",
       "2017      131\n",
       "Name: count, dtype: int64"
      ]
     },
     "execution_count": 36,
     "metadata": {},
     "output_type": "execute_result"
    }
   ],
   "source": [
    "siniestrosCABA.Año.value_counts()"
   ]
  },
  {
   "cell_type": "code",
   "execution_count": 37,
   "metadata": {},
   "outputs": [
    {
     "data": {
      "text/plain": [
       "Mes\n",
       "10    2343\n",
       "3     2204\n",
       "8     2200\n",
       "12    2166\n",
       "9     2083\n",
       "2     2047\n",
       "7     2035\n",
       "1     1996\n",
       "11    1950\n",
       "6     1935\n",
       "4     1805\n",
       "5     1717\n",
       "Name: count, dtype: int64"
      ]
     },
     "execution_count": 37,
     "metadata": {},
     "output_type": "execute_result"
    }
   ],
   "source": [
    "siniestrosCABA.Mes.value_counts()"
   ]
  },
  {
   "cell_type": "code",
   "execution_count": 38,
   "metadata": {},
   "outputs": [
    {
     "data": {
      "text/plain": [
       "Dia\n",
       "17    894\n",
       "16    877\n",
       "18    866\n",
       "5     866\n",
       "13    844\n",
       "6     844\n",
       "12    843\n",
       "4     841\n",
       "7     838\n",
       "15    836\n",
       "11    827\n",
       "20    805\n",
       "27    803\n",
       "3     799\n",
       "21    798\n",
       "14    796\n",
       "9     795\n",
       "10    795\n",
       "28    791\n",
       "22    790\n",
       "26    786\n",
       "23    782\n",
       "19    781\n",
       "2     771\n",
       "25    764\n",
       "29    743\n",
       "8     741\n",
       "1     719\n",
       "24    712\n",
       "30    692\n",
       "31    442\n",
       "Name: count, dtype: int64"
      ]
     },
     "execution_count": 38,
     "metadata": {},
     "output_type": "execute_result"
    }
   ],
   "source": [
    "siniestrosCABA.Dia.value_counts()"
   ]
  },
  {
   "cell_type": "markdown",
   "metadata": {},
   "source": [
    "**Columna Hora**\n",
    "\n",
    "1. *Revisamos si existen valores extraños.*\n",
    "2. *Observamos que existen valores \"SD\" y \"sd\", los reemplazamos por nulos."
   ]
  },
  {
   "cell_type": "code",
   "execution_count": 39,
   "metadata": {},
   "outputs": [
    {
     "data": {
      "text/plain": [
       "Hora\n",
       "17    1764\n",
       "16    1742\n",
       "14    1660\n",
       "13    1627\n",
       "18    1585\n",
       "15    1583\n",
       "12    1582\n",
       "19    1380\n",
       "11    1297\n",
       "20    1166\n",
       "10    1162\n",
       "9     1153\n",
       "8     1067\n",
       "21    1003\n",
       "0      830\n",
       "22     792\n",
       "7      725\n",
       "23     602\n",
       "6      463\n",
       "1      365\n",
       "5      306\n",
       "2      250\n",
       "4      186\n",
       "3      181\n",
       "sd       4\n",
       "SD       1\n",
       "Name: count, dtype: int64"
      ]
     },
     "execution_count": 39,
     "metadata": {},
     "output_type": "execute_result"
    }
   ],
   "source": [
    "siniestrosCABA.Hora.value_counts()"
   ]
  },
  {
   "cell_type": "code",
   "execution_count": 40,
   "metadata": {},
   "outputs": [],
   "source": [
    "siniestrosCABA[\"Hora\"] = siniestrosCABA[\"Hora\"].replace(\"sd\", None)\n",
    "siniestrosCABA[\"Hora\"] = siniestrosCABA[\"Hora\"].replace(\"SD\", None)"
   ]
  },
  {
   "cell_type": "markdown",
   "metadata": {},
   "source": [
    "**Columna Victima**\n",
    "\n",
    "1. *Revisamos si existen valores extraños.*\n",
    "2. *Observamos que existen valores \"SD\", los reemplazamos por nulos.*\n",
    "3. *Los demás valores los reemplazamos por el id del dataframe Modos.*"
   ]
  },
  {
   "cell_type": "code",
   "execution_count": 41,
   "metadata": {},
   "outputs": [
    {
     "data": {
      "text/plain": [
       "Victima\n",
       "SD                    10742\n",
       "MOTO                   5756\n",
       "PEATON                 2290\n",
       "CICLISTA               2209\n",
       "AUTO                   2116\n",
       "TRANSPORTE PUBLICO      678\n",
       "CAMIONETA               189\n",
       "TAXI                    182\n",
       "MOVIL                   102\n",
       "CAMION                   79\n",
       "MIXTO                    42\n",
       "BICICLETA                29\n",
       "MONOPATIN                28\n",
       "OTRO                     13\n",
       "UTILITARIO               12\n",
       "CARGAS                    7\n",
       "PASAJEROS                 5\n",
       "OBJETO FIJO               1\n",
       "PEATON_MOTO               1\n",
       "Name: count, dtype: int64"
      ]
     },
     "execution_count": 41,
     "metadata": {},
     "output_type": "execute_result"
    }
   ],
   "source": [
    "siniestrosCABA.Victima.value_counts()"
   ]
  },
  {
   "cell_type": "code",
   "execution_count": 42,
   "metadata": {},
   "outputs": [],
   "source": [
    "siniestrosCABA[\"Victima\"] = siniestrosCABA[\"Victima\"].replace(\"SD\", None)"
   ]
  },
  {
   "cell_type": "markdown",
   "metadata": {},
   "source": [
    "*Mapeamos los datos de acuerdo al id que corresponden*"
   ]
  },
  {
   "cell_type": "code",
   "execution_count": 43,
   "metadata": {},
   "outputs": [],
   "source": [
    "mapeo_victimas = {\n",
    "    \"MOTO\": \"6\",\n",
    "    \"PEATON\": \"1\",\n",
    "    \"CICLISTA\": \"2\",\n",
    "    \"AUTO\": \"4\",\n",
    "    \"TRANSPORTE PUBLICO\": \"7\",\n",
    "    \"CAMIONETA\": \"5\",\n",
    "    \"TAXI\": \"8\",\n",
    "    \"MOVIL\": \"10\",\n",
    "    \"CAMION\": \"7\",\n",
    "    \"MIXTO\": \"12\",\n",
    "    \"MULTIPLE\": \"12\",\n",
    "    \"BICICLETA\": \"2\",\n",
    "    \"MONOPATIN\": \"3\",\n",
    "    \"OTRO\": \"13\",\n",
    "    \"UTILITARIO\": \"9\",\n",
    "    \"CARGAS\": \"9\",\n",
    "    \"PASAJEROS\": \"7\",\n",
    "    \"OBJETO FIJO\": \"11\",\n",
    "    \"PEATON_MOTO\": \"1\",\n",
    "    \"TREN\": \"9\"\n",
    "}\n",
    "\n",
    "siniestrosCABA[\"Victima\"] = siniestrosCABA[\"Victima\"].replace(mapeo_victimas)"
   ]
  },
  {
   "cell_type": "markdown",
   "metadata": {},
   "source": [
    "*Cambiamos el nombre de la columna:*"
   ]
  },
  {
   "cell_type": "code",
   "execution_count": 44,
   "metadata": {},
   "outputs": [],
   "source": [
    "siniestrosCABA.rename(columns={\"Victima\": \"IdTransporteVictima\"}, inplace=True)"
   ]
  },
  {
   "cell_type": "markdown",
   "metadata": {},
   "source": [
    "**Columna Acusado**\n",
    "\n",
    "1. *Revisamos si existen valores extraños.*\n",
    "2. *Observamos que existen valores \"SD\", los reemplazamos por nulos.*\n",
    "3. *Los demás valores los reemplazamos por el id del dataframe Modos.*"
   ]
  },
  {
   "cell_type": "code",
   "execution_count": 45,
   "metadata": {},
   "outputs": [
    {
     "data": {
      "text/plain": [
       "Acusado\n",
       "SD                    15311\n",
       "AUTO                   4845\n",
       "TRANSPORTE PUBLICO      975\n",
       "CAMIONETA               872\n",
       "MOTO                    682\n",
       "TAXI                    591\n",
       "OBJETO FIJO             341\n",
       "CAMION                  288\n",
       "PASAJEROS               173\n",
       "CARGAS                  146\n",
       "MOVIL                    81\n",
       "CICLISTA                 77\n",
       "OTRO                     30\n",
       "UTILITARIO               28\n",
       "MULTIPLE                 17\n",
       "PEATON                   13\n",
       "BICICLETA                 7\n",
       "MONOPATIN                 3\n",
       "TREN                      1\n",
       "Name: count, dtype: int64"
      ]
     },
     "execution_count": 45,
     "metadata": {},
     "output_type": "execute_result"
    }
   ],
   "source": [
    "siniestrosCABA.Acusado.value_counts()"
   ]
  },
  {
   "cell_type": "code",
   "execution_count": 46,
   "metadata": {},
   "outputs": [],
   "source": [
    "siniestrosCABA[\"Acusado\"] = siniestrosCABA[\"Acusado\"].replace(\"SD\", None)"
   ]
  },
  {
   "cell_type": "markdown",
   "metadata": {},
   "source": [
    "*Mapeamos los datos de acuerdo al id que corresponden*"
   ]
  },
  {
   "cell_type": "code",
   "execution_count": 47,
   "metadata": {},
   "outputs": [],
   "source": [
    "siniestrosCABA[\"Acusado\"] = siniestrosCABA[\"Acusado\"].replace(mapeo_victimas)"
   ]
  },
  {
   "cell_type": "markdown",
   "metadata": {},
   "source": [
    "*Cambiamos el nombre de la columna:*"
   ]
  },
  {
   "cell_type": "code",
   "execution_count": 48,
   "metadata": {},
   "outputs": [],
   "source": [
    "siniestrosCABA.rename(columns={\"Acusado\": \"IdTransporteAcusado\"}, inplace=True)"
   ]
  },
  {
   "cell_type": "markdown",
   "metadata": {},
   "source": [
    "**Columna Gravedad**\n",
    "\n",
    "1. *Revisamos si existen valores extraños.*"
   ]
  },
  {
   "cell_type": "code",
   "execution_count": 49,
   "metadata": {},
   "outputs": [
    {
     "data": {
      "text/plain": [
       "Gravedad\n",
       "Victimas Heridas Leves     23139\n",
       "Victimas Mortales            699\n",
       "Victimas Heridas Graves      643\n",
       "Name: count, dtype: int64"
      ]
     },
     "execution_count": 49,
     "metadata": {},
     "output_type": "execute_result"
    }
   ],
   "source": [
    "siniestrosCABA.Gravedad.value_counts()"
   ]
  },
  {
   "cell_type": "markdown",
   "metadata": {},
   "source": [
    "**Columna Fecha**\n",
    "\n",
    "1. *Creamos la columna Fecha con base a los valores de las columnas Año, Mes y Dia*"
   ]
  },
  {
   "cell_type": "code",
   "execution_count": 50,
   "metadata": {},
   "outputs": [
    {
     "data": {
      "text/html": [
       "<div>\n",
       "<style scoped>\n",
       "    .dataframe tbody tr th:only-of-type {\n",
       "        vertical-align: middle;\n",
       "    }\n",
       "\n",
       "    .dataframe tbody tr th {\n",
       "        vertical-align: top;\n",
       "    }\n",
       "\n",
       "    .dataframe thead th {\n",
       "        text-align: right;\n",
       "    }\n",
       "</style>\n",
       "<table border=\"1\" class=\"dataframe\">\n",
       "  <thead>\n",
       "    <tr style=\"text-align: right;\">\n",
       "      <th></th>\n",
       "      <th>IdSiniestro</th>\n",
       "      <th>NumeroVictimas</th>\n",
       "      <th>Año</th>\n",
       "      <th>Mes</th>\n",
       "      <th>Dia</th>\n",
       "      <th>Hora</th>\n",
       "      <th>IdTransporteVictima</th>\n",
       "      <th>IdTransporteAcusado</th>\n",
       "      <th>Gravedad</th>\n",
       "      <th>Fecha</th>\n",
       "    </tr>\n",
       "  </thead>\n",
       "  <tbody>\n",
       "    <tr>\n",
       "      <th>0</th>\n",
       "      <td>20160001</td>\n",
       "      <td>1</td>\n",
       "      <td>2016</td>\n",
       "      <td>1</td>\n",
       "      <td>1</td>\n",
       "      <td>4</td>\n",
       "      <td>6</td>\n",
       "      <td>4</td>\n",
       "      <td>Victimas Mortales</td>\n",
       "      <td>2016-01-01</td>\n",
       "    </tr>\n",
       "    <tr>\n",
       "      <th>1</th>\n",
       "      <td>20160002</td>\n",
       "      <td>1</td>\n",
       "      <td>2016</td>\n",
       "      <td>1</td>\n",
       "      <td>2</td>\n",
       "      <td>1</td>\n",
       "      <td>4</td>\n",
       "      <td>7</td>\n",
       "      <td>Victimas Mortales</td>\n",
       "      <td>2016-01-02</td>\n",
       "    </tr>\n",
       "    <tr>\n",
       "      <th>2</th>\n",
       "      <td>20160003</td>\n",
       "      <td>1</td>\n",
       "      <td>2016</td>\n",
       "      <td>1</td>\n",
       "      <td>3</td>\n",
       "      <td>7</td>\n",
       "      <td>6</td>\n",
       "      <td>4</td>\n",
       "      <td>Victimas Mortales</td>\n",
       "      <td>2016-01-03</td>\n",
       "    </tr>\n",
       "    <tr>\n",
       "      <th>3</th>\n",
       "      <td>20160004</td>\n",
       "      <td>1</td>\n",
       "      <td>2016</td>\n",
       "      <td>1</td>\n",
       "      <td>10</td>\n",
       "      <td>0</td>\n",
       "      <td>6</td>\n",
       "      <td>None</td>\n",
       "      <td>Victimas Mortales</td>\n",
       "      <td>2016-01-10</td>\n",
       "    </tr>\n",
       "    <tr>\n",
       "      <th>4</th>\n",
       "      <td>20160005</td>\n",
       "      <td>1</td>\n",
       "      <td>2016</td>\n",
       "      <td>1</td>\n",
       "      <td>21</td>\n",
       "      <td>5</td>\n",
       "      <td>6</td>\n",
       "      <td>7</td>\n",
       "      <td>Victimas Mortales</td>\n",
       "      <td>2016-01-21</td>\n",
       "    </tr>\n",
       "  </tbody>\n",
       "</table>\n",
       "</div>"
      ],
      "text/plain": [
       "   IdSiniestro  NumeroVictimas   Año  Mes  Dia Hora IdTransporteVictima  \\\n",
       "0     20160001               1  2016    1    1    4                   6   \n",
       "1     20160002               1  2016    1    2    1                   4   \n",
       "2     20160003               1  2016    1    3    7                   6   \n",
       "3     20160004               1  2016    1   10    0                   6   \n",
       "4     20160005               1  2016    1   21    5                   6   \n",
       "\n",
       "  IdTransporteAcusado           Gravedad      Fecha  \n",
       "0                   4  Victimas Mortales 2016-01-01  \n",
       "1                   7  Victimas Mortales 2016-01-02  \n",
       "2                   4  Victimas Mortales 2016-01-03  \n",
       "3                None  Victimas Mortales 2016-01-10  \n",
       "4                   7  Victimas Mortales 2016-01-21  "
      ]
     },
     "execution_count": 50,
     "metadata": {},
     "output_type": "execute_result"
    }
   ],
   "source": [
    "siniestrosCABA[\"Fecha\"] = siniestrosCABA.apply(lambda row: '-'.join([str(row[\"Año\"]), str(row[\"Mes\"]), str(row[\"Dia\"])]), axis=1)\n",
    "siniestrosCABA['Fecha'] = pd.to_datetime(siniestrosCABA['Fecha'])\n",
    "siniestrosCABA.head(5)"
   ]
  },
  {
   "cell_type": "markdown",
   "metadata": {},
   "source": [
    "**Columna DiaSemana**\n",
    "\n",
    "1. *Creamos la columna DiaSemana con base a los valores de las columna Fecha:*\n",
    "2. *Mapeamos los valores a nombres en español.*"
   ]
  },
  {
   "cell_type": "code",
   "execution_count": 51,
   "metadata": {},
   "outputs": [
    {
     "data": {
      "text/html": [
       "<div>\n",
       "<style scoped>\n",
       "    .dataframe tbody tr th:only-of-type {\n",
       "        vertical-align: middle;\n",
       "    }\n",
       "\n",
       "    .dataframe tbody tr th {\n",
       "        vertical-align: top;\n",
       "    }\n",
       "\n",
       "    .dataframe thead th {\n",
       "        text-align: right;\n",
       "    }\n",
       "</style>\n",
       "<table border=\"1\" class=\"dataframe\">\n",
       "  <thead>\n",
       "    <tr style=\"text-align: right;\">\n",
       "      <th></th>\n",
       "      <th>IdSiniestro</th>\n",
       "      <th>NumeroVictimas</th>\n",
       "      <th>Año</th>\n",
       "      <th>Mes</th>\n",
       "      <th>Dia</th>\n",
       "      <th>Hora</th>\n",
       "      <th>IdTransporteVictima</th>\n",
       "      <th>IdTransporteAcusado</th>\n",
       "      <th>Gravedad</th>\n",
       "      <th>Fecha</th>\n",
       "      <th>DiaSemana</th>\n",
       "    </tr>\n",
       "  </thead>\n",
       "  <tbody>\n",
       "    <tr>\n",
       "      <th>0</th>\n",
       "      <td>20160001</td>\n",
       "      <td>1</td>\n",
       "      <td>2016</td>\n",
       "      <td>1</td>\n",
       "      <td>1</td>\n",
       "      <td>4</td>\n",
       "      <td>6</td>\n",
       "      <td>4</td>\n",
       "      <td>Victimas Mortales</td>\n",
       "      <td>2016-01-01</td>\n",
       "      <td>Friday</td>\n",
       "    </tr>\n",
       "    <tr>\n",
       "      <th>1</th>\n",
       "      <td>20160002</td>\n",
       "      <td>1</td>\n",
       "      <td>2016</td>\n",
       "      <td>1</td>\n",
       "      <td>2</td>\n",
       "      <td>1</td>\n",
       "      <td>4</td>\n",
       "      <td>7</td>\n",
       "      <td>Victimas Mortales</td>\n",
       "      <td>2016-01-02</td>\n",
       "      <td>Saturday</td>\n",
       "    </tr>\n",
       "    <tr>\n",
       "      <th>2</th>\n",
       "      <td>20160003</td>\n",
       "      <td>1</td>\n",
       "      <td>2016</td>\n",
       "      <td>1</td>\n",
       "      <td>3</td>\n",
       "      <td>7</td>\n",
       "      <td>6</td>\n",
       "      <td>4</td>\n",
       "      <td>Victimas Mortales</td>\n",
       "      <td>2016-01-03</td>\n",
       "      <td>Sunday</td>\n",
       "    </tr>\n",
       "    <tr>\n",
       "      <th>3</th>\n",
       "      <td>20160004</td>\n",
       "      <td>1</td>\n",
       "      <td>2016</td>\n",
       "      <td>1</td>\n",
       "      <td>10</td>\n",
       "      <td>0</td>\n",
       "      <td>6</td>\n",
       "      <td>None</td>\n",
       "      <td>Victimas Mortales</td>\n",
       "      <td>2016-01-10</td>\n",
       "      <td>Sunday</td>\n",
       "    </tr>\n",
       "    <tr>\n",
       "      <th>4</th>\n",
       "      <td>20160005</td>\n",
       "      <td>1</td>\n",
       "      <td>2016</td>\n",
       "      <td>1</td>\n",
       "      <td>21</td>\n",
       "      <td>5</td>\n",
       "      <td>6</td>\n",
       "      <td>7</td>\n",
       "      <td>Victimas Mortales</td>\n",
       "      <td>2016-01-21</td>\n",
       "      <td>Thursday</td>\n",
       "    </tr>\n",
       "  </tbody>\n",
       "</table>\n",
       "</div>"
      ],
      "text/plain": [
       "   IdSiniestro  NumeroVictimas   Año  Mes  Dia Hora IdTransporteVictima  \\\n",
       "0     20160001               1  2016    1    1    4                   6   \n",
       "1     20160002               1  2016    1    2    1                   4   \n",
       "2     20160003               1  2016    1    3    7                   6   \n",
       "3     20160004               1  2016    1   10    0                   6   \n",
       "4     20160005               1  2016    1   21    5                   6   \n",
       "\n",
       "  IdTransporteAcusado           Gravedad      Fecha DiaSemana  \n",
       "0                   4  Victimas Mortales 2016-01-01    Friday  \n",
       "1                   7  Victimas Mortales 2016-01-02  Saturday  \n",
       "2                   4  Victimas Mortales 2016-01-03    Sunday  \n",
       "3                None  Victimas Mortales 2016-01-10    Sunday  \n",
       "4                   7  Victimas Mortales 2016-01-21  Thursday  "
      ]
     },
     "execution_count": 51,
     "metadata": {},
     "output_type": "execute_result"
    }
   ],
   "source": [
    "siniestrosCABA[\"DiaSemana\"] = siniestrosCABA[\"Fecha\"].dt.strftime('%A')\n",
    "siniestrosCABA.head(5)"
   ]
  },
  {
   "cell_type": "code",
   "execution_count": 52,
   "metadata": {},
   "outputs": [],
   "source": [
    "mapeo_dias = {\n",
    "    \"Sunday\": \"Domingo\",\n",
    "    \"Monday\": \"Lunes\",\n",
    "    \"Tuesday\": \"Martes\",\n",
    "    \"Wednesday\": \"Miercoles\",\n",
    "    \"Thursday\": \"Jueves\",\n",
    "    \"Friday\": \"Viernes\",\n",
    "    \"Saturday\": \"Sabado\",\n",
    "}\n",
    "\n",
    "siniestrosCABA[\"DiaSemana\"] = siniestrosCABA[\"DiaSemana\"].replace(mapeo_dias)"
   ]
  },
  {
   "cell_type": "code",
   "execution_count": 53,
   "metadata": {},
   "outputs": [
    {
     "data": {
      "text/plain": [
       "DiaSemana\n",
       "Viernes      4203\n",
       "Jueves       3960\n",
       "Miercoles    3941\n",
       "Martes       3798\n",
       "Lunes        3579\n",
       "Sabado       2794\n",
       "Domingo      2206\n",
       "Name: count, dtype: int64"
      ]
     },
     "execution_count": 53,
     "metadata": {},
     "output_type": "execute_result"
    }
   ],
   "source": [
    "siniestrosCABA.DiaSemana.value_counts()"
   ]
  },
  {
   "cell_type": "markdown",
   "metadata": {},
   "source": [
    "#### Dataframe SiniestrosLocs ####\n",
    "\n",
    "*Este dataframe contiene información asociada a las localizaciones de los siniestros, importante para analizar espacialmente los siniestros viales.*"
   ]
  },
  {
   "cell_type": "markdown",
   "metadata": {},
   "source": [
    "*Almacenamos en dfHomicidios2 solo las columnas que necesitaremos:*\n",
    "\n",
    "1. *Cambiamos el nombre de las columnas*."
   ]
  },
  {
   "cell_type": "code",
   "execution_count": 54,
   "metadata": {},
   "outputs": [
    {
     "data": {
      "text/html": [
       "<div>\n",
       "<style scoped>\n",
       "    .dataframe tbody tr th:only-of-type {\n",
       "        vertical-align: middle;\n",
       "    }\n",
       "\n",
       "    .dataframe tbody tr th {\n",
       "        vertical-align: top;\n",
       "    }\n",
       "\n",
       "    .dataframe thead th {\n",
       "        text-align: right;\n",
       "    }\n",
       "</style>\n",
       "<table border=\"1\" class=\"dataframe\">\n",
       "  <thead>\n",
       "    <tr style=\"text-align: right;\">\n",
       "      <th></th>\n",
       "      <th>IdSiniestro</th>\n",
       "      <th>Longitud</th>\n",
       "      <th>Latitud</th>\n",
       "      <th>IdComuna</th>\n",
       "      <th>TipoVia</th>\n",
       "      <th>NombreVia</th>\n",
       "    </tr>\n",
       "  </thead>\n",
       "  <tbody>\n",
       "    <tr>\n",
       "      <th>0</th>\n",
       "      <td>20160001</td>\n",
       "      <td>-58.47533969</td>\n",
       "      <td>-34.68757022</td>\n",
       "      <td>8</td>\n",
       "      <td>AVENIDA</td>\n",
       "      <td>PIEDRA BUENA AV.</td>\n",
       "    </tr>\n",
       "    <tr>\n",
       "      <th>1</th>\n",
       "      <td>20160002</td>\n",
       "      <td>-58.50877521</td>\n",
       "      <td>-34.66977709</td>\n",
       "      <td>9</td>\n",
       "      <td>GRAL PAZ</td>\n",
       "      <td>PAZ, GRAL. AV.</td>\n",
       "    </tr>\n",
       "    <tr>\n",
       "      <th>2</th>\n",
       "      <td>20160003</td>\n",
       "      <td>-58.39040293</td>\n",
       "      <td>-34.63189362</td>\n",
       "      <td>1</td>\n",
       "      <td>AVENIDA</td>\n",
       "      <td>ENTRE RIOS AV.</td>\n",
       "    </tr>\n",
       "  </tbody>\n",
       "</table>\n",
       "</div>"
      ],
      "text/plain": [
       "  IdSiniestro      Longitud       Latitud  IdComuna   TipoVia  \\\n",
       "0    20160001  -58.47533969  -34.68757022         8   AVENIDA   \n",
       "1    20160002  -58.50877521  -34.66977709         9  GRAL PAZ   \n",
       "2    20160003  -58.39040293  -34.63189362         1   AVENIDA   \n",
       "\n",
       "          NombreVia  \n",
       "0  PIEDRA BUENA AV.  \n",
       "1    PAZ, GRAL. AV.  \n",
       "2    ENTRE RIOS AV.  "
      ]
     },
     "execution_count": 54,
     "metadata": {},
     "output_type": "execute_result"
    }
   ],
   "source": [
    "dfHomicidios2 = dfHomicidios[[\"ID\", \"pos x\", \"pos y\", \"COMUNA\", \"TIPO_DE_CALLE\", \"Calle\"]].copy()\n",
    "\n",
    "dfHomicidios2.columns = [\"IdSiniestro\", \"Longitud\", \"Latitud\", \"IdComuna\", \"TipoVia\", \"NombreVia\"]\n",
    "\n",
    "dfHomicidios2.head(3)"
   ]
  },
  {
   "cell_type": "markdown",
   "metadata": {},
   "source": [
    "*Almacenamos en dfLesiones2 solo las columnas que necesitaremos:*\n",
    "\n",
    "1. *Cambiamos el nombre de las columnas*."
   ]
  },
  {
   "cell_type": "code",
   "execution_count": 55,
   "metadata": {},
   "outputs": [
    {
     "data": {
      "text/html": [
       "<div>\n",
       "<style scoped>\n",
       "    .dataframe tbody tr th:only-of-type {\n",
       "        vertical-align: middle;\n",
       "    }\n",
       "\n",
       "    .dataframe tbody tr th {\n",
       "        vertical-align: top;\n",
       "    }\n",
       "\n",
       "    .dataframe thead th {\n",
       "        text-align: right;\n",
       "    }\n",
       "</style>\n",
       "<table border=\"1\" class=\"dataframe\">\n",
       "  <thead>\n",
       "    <tr style=\"text-align: right;\">\n",
       "      <th></th>\n",
       "      <th>IdSiniestro</th>\n",
       "      <th>Longitud</th>\n",
       "      <th>Latitud</th>\n",
       "      <th>IdComuna</th>\n",
       "      <th>TipoVia</th>\n",
       "      <th>NombreVia</th>\n",
       "    </tr>\n",
       "  </thead>\n",
       "  <tbody>\n",
       "    <tr>\n",
       "      <th>0</th>\n",
       "      <td>20190000179</td>\n",
       "      <td>-58.408911</td>\n",
       "      <td>-34.559658</td>\n",
       "      <td>14</td>\n",
       "      <td>SD</td>\n",
       "      <td>NaN</td>\n",
       "    </tr>\n",
       "    <tr>\n",
       "      <th>1</th>\n",
       "      <td>20190000053</td>\n",
       "      <td>-58.44351</td>\n",
       "      <td>-34.669125</td>\n",
       "      <td>8</td>\n",
       "      <td>SD</td>\n",
       "      <td>NaN</td>\n",
       "    </tr>\n",
       "    <tr>\n",
       "      <th>2</th>\n",
       "      <td>20190000063</td>\n",
       "      <td>-58.468335</td>\n",
       "      <td>-34.677556</td>\n",
       "      <td>8</td>\n",
       "      <td>SD</td>\n",
       "      <td>NaN</td>\n",
       "    </tr>\n",
       "  </tbody>\n",
       "</table>\n",
       "</div>"
      ],
      "text/plain": [
       "   IdSiniestro    Longitud     Latitud IdComuna TipoVia NombreVia\n",
       "0  20190000179  -58.408911  -34.559658       14      SD       NaN\n",
       "1  20190000053   -58.44351  -34.669125        8      SD       NaN\n",
       "2  20190000063  -58.468335  -34.677556        8      SD       NaN"
      ]
     },
     "execution_count": 55,
     "metadata": {},
     "output_type": "execute_result"
    }
   ],
   "source": [
    "dfLesiones2 = dfLesiones[[\"id\", \"longitud\", \"latutid\", \"comuna\", \"tipo_calle\", \"calle\"]].copy()\n",
    "\n",
    "dfLesiones2.columns = [\"IdSiniestro\", \"Longitud\", \"Latitud\", \"IdComuna\", \"TipoVia\", \"NombreVia\"]\n",
    "\n",
    "dfLesiones2.head(3)"
   ]
  },
  {
   "cell_type": "markdown",
   "metadata": {},
   "source": [
    "*Concatenamos los dos dataframes:*"
   ]
  },
  {
   "cell_type": "code",
   "execution_count": 56,
   "metadata": {},
   "outputs": [
    {
     "data": {
      "text/html": [
       "<div>\n",
       "<style scoped>\n",
       "    .dataframe tbody tr th:only-of-type {\n",
       "        vertical-align: middle;\n",
       "    }\n",
       "\n",
       "    .dataframe tbody tr th {\n",
       "        vertical-align: top;\n",
       "    }\n",
       "\n",
       "    .dataframe thead th {\n",
       "        text-align: right;\n",
       "    }\n",
       "</style>\n",
       "<table border=\"1\" class=\"dataframe\">\n",
       "  <thead>\n",
       "    <tr style=\"text-align: right;\">\n",
       "      <th></th>\n",
       "      <th>IdSiniestro</th>\n",
       "      <th>Longitud</th>\n",
       "      <th>Latitud</th>\n",
       "      <th>IdComuna</th>\n",
       "      <th>TipoVia</th>\n",
       "      <th>NombreVia</th>\n",
       "    </tr>\n",
       "  </thead>\n",
       "  <tbody>\n",
       "    <tr>\n",
       "      <th>0</th>\n",
       "      <td>20160001</td>\n",
       "      <td>-58.47533969</td>\n",
       "      <td>-34.68757022</td>\n",
       "      <td>8</td>\n",
       "      <td>AVENIDA</td>\n",
       "      <td>PIEDRA BUENA AV.</td>\n",
       "    </tr>\n",
       "    <tr>\n",
       "      <th>1</th>\n",
       "      <td>20160002</td>\n",
       "      <td>-58.50877521</td>\n",
       "      <td>-34.66977709</td>\n",
       "      <td>9</td>\n",
       "      <td>GRAL PAZ</td>\n",
       "      <td>PAZ, GRAL. AV.</td>\n",
       "    </tr>\n",
       "    <tr>\n",
       "      <th>2</th>\n",
       "      <td>20160003</td>\n",
       "      <td>-58.39040293</td>\n",
       "      <td>-34.63189362</td>\n",
       "      <td>1</td>\n",
       "      <td>AVENIDA</td>\n",
       "      <td>ENTRE RIOS AV.</td>\n",
       "    </tr>\n",
       "    <tr>\n",
       "      <th>3</th>\n",
       "      <td>20160004</td>\n",
       "      <td>-58.46503904</td>\n",
       "      <td>-34.68092974</td>\n",
       "      <td>8</td>\n",
       "      <td>AVENIDA</td>\n",
       "      <td>LARRAZABAL AV.</td>\n",
       "    </tr>\n",
       "    <tr>\n",
       "      <th>4</th>\n",
       "      <td>20160005</td>\n",
       "      <td>-58.38718297</td>\n",
       "      <td>-34.62246630</td>\n",
       "      <td>1</td>\n",
       "      <td>AVENIDA</td>\n",
       "      <td>SAN JUAN AV.</td>\n",
       "    </tr>\n",
       "    <tr>\n",
       "      <th>...</th>\n",
       "      <td>...</td>\n",
       "      <td>...</td>\n",
       "      <td>...</td>\n",
       "      <td>...</td>\n",
       "      <td>...</td>\n",
       "      <td>...</td>\n",
       "    </tr>\n",
       "    <tr>\n",
       "      <th>23780</th>\n",
       "      <td>20210652849</td>\n",
       "      <td>-58.513477158887</td>\n",
       "      <td>-34.659713573880</td>\n",
       "      <td>9</td>\n",
       "      <td>AVENIDA</td>\n",
       "      <td>ALBERDI, JUAN BAUTISTA AV.</td>\n",
       "    </tr>\n",
       "    <tr>\n",
       "      <th>23781</th>\n",
       "      <td>20210652865</td>\n",
       "      <td>-58.488326609395</td>\n",
       "      <td>-34.641753304864</td>\n",
       "      <td>9</td>\n",
       "      <td>AVENIDA</td>\n",
       "      <td>ALBERDI, JUAN BAUTISTA AV.</td>\n",
       "    </tr>\n",
       "    <tr>\n",
       "      <th>23782</th>\n",
       "      <td>20210652907</td>\n",
       "      <td>-58.382894</td>\n",
       "      <td>-34.583083</td>\n",
       "      <td>1</td>\n",
       "      <td>SD</td>\n",
       "      <td>NaN</td>\n",
       "    </tr>\n",
       "    <tr>\n",
       "      <th>23783</th>\n",
       "      <td>20210652921</td>\n",
       "      <td>-58.414532050899</td>\n",
       "      <td>-34.614288229345</td>\n",
       "      <td>5</td>\n",
       "      <td>CALLE</td>\n",
       "      <td>LINIERS VIRREY</td>\n",
       "    </tr>\n",
       "    <tr>\n",
       "      <th>23784</th>\n",
       "      <td>20200244615</td>\n",
       "      <td>-5829963273</td>\n",
       "      <td>-3472890716</td>\n",
       "      <td>SD</td>\n",
       "      <td>SD</td>\n",
       "      <td>NaN</td>\n",
       "    </tr>\n",
       "  </tbody>\n",
       "</table>\n",
       "<p>24481 rows × 6 columns</p>\n",
       "</div>"
      ],
      "text/plain": [
       "       IdSiniestro          Longitud           Latitud IdComuna   TipoVia  \\\n",
       "0         20160001      -58.47533969      -34.68757022        8   AVENIDA   \n",
       "1         20160002      -58.50877521      -34.66977709        9  GRAL PAZ   \n",
       "2         20160003      -58.39040293      -34.63189362        1   AVENIDA   \n",
       "3         20160004      -58.46503904      -34.68092974        8   AVENIDA   \n",
       "4         20160005      -58.38718297      -34.62246630        1   AVENIDA   \n",
       "...            ...               ...               ...      ...       ...   \n",
       "23780  20210652849  -58.513477158887  -34.659713573880        9   AVENIDA   \n",
       "23781  20210652865  -58.488326609395  -34.641753304864        9   AVENIDA   \n",
       "23782  20210652907        -58.382894        -34.583083        1        SD   \n",
       "23783  20210652921  -58.414532050899  -34.614288229345        5     CALLE   \n",
       "23784  20200244615       -5829963273       -3472890716       SD        SD   \n",
       "\n",
       "                        NombreVia  \n",
       "0                PIEDRA BUENA AV.  \n",
       "1                  PAZ, GRAL. AV.  \n",
       "2                  ENTRE RIOS AV.  \n",
       "3                  LARRAZABAL AV.  \n",
       "4                    SAN JUAN AV.  \n",
       "...                           ...  \n",
       "23780  ALBERDI, JUAN BAUTISTA AV.  \n",
       "23781  ALBERDI, JUAN BAUTISTA AV.  \n",
       "23782                         NaN  \n",
       "23783              LINIERS VIRREY  \n",
       "23784                         NaN  \n",
       "\n",
       "[24481 rows x 6 columns]"
      ]
     },
     "execution_count": 56,
     "metadata": {},
     "output_type": "execute_result"
    }
   ],
   "source": [
    "siniestrosLocs = pd.concat([dfHomicidios2, dfLesiones2])\n",
    "siniestrosLocs"
   ]
  },
  {
   "cell_type": "markdown",
   "metadata": {},
   "source": [
    "**Revisamos cada una de las columnas**"
   ]
  },
  {
   "cell_type": "markdown",
   "metadata": {},
   "source": [
    "**Columna IdSiniestro**\n",
    "\n",
    "1. *Revisamos si existen valores repetidos*\n",
    "2. *Cambiamos el tipo de dato a **int**.*"
   ]
  },
  {
   "cell_type": "code",
   "execution_count": 57,
   "metadata": {},
   "outputs": [
    {
     "data": {
      "text/plain": [
       "IdSiniestro\n",
       "20160001       1\n",
       "20200658364    1\n",
       "20200655563    1\n",
       "20200655524    1\n",
       "20200655518    1\n",
       "              ..\n",
       "20190567622    1\n",
       "20190567566    1\n",
       "20190567553    1\n",
       "20190567520    1\n",
       "20200244615    1\n",
       "Name: count, Length: 24481, dtype: int64"
      ]
     },
     "execution_count": 57,
     "metadata": {},
     "output_type": "execute_result"
    }
   ],
   "source": [
    "siniestrosLocs.IdSiniestro.value_counts()"
   ]
  },
  {
   "cell_type": "code",
   "execution_count": 58,
   "metadata": {},
   "outputs": [],
   "source": [
    "siniestrosLocs[\"IdSiniestro\"] = siniestrosLocs[\"IdSiniestro\"].astype(np.int64)"
   ]
  },
  {
   "cell_type": "markdown",
   "metadata": {},
   "source": [
    "**Columnas Longitud y Latitud**\n",
    "\n",
    "1. *Revisamos si existen valores repetidos. Observamos que existen repetidos pero esto puede pasar, ya que el lugar de los siniestros puede ser el mismo para varios eventos.*\n",
    "2. *Observamos registros \"SD\", los cambiamos por None.*"
   ]
  },
  {
   "cell_type": "code",
   "execution_count": 59,
   "metadata": {},
   "outputs": [
    {
     "data": {
      "text/plain": [
       "Longitud\n",
       "SD                  1209\n",
       "-58.500738109269      40\n",
       "-58.380998330204      35\n",
       "-58.382233829418      29\n",
       "-58.500649            27\n",
       "                    ... \n",
       "-58.463949             1\n",
       "-58.475215             1\n",
       "-58.468422             1\n",
       "-58.470434             1\n",
       "-5829963273            1\n",
       "Name: count, Length: 14415, dtype: int64"
      ]
     },
     "execution_count": 59,
     "metadata": {},
     "output_type": "execute_result"
    }
   ],
   "source": [
    "siniestrosLocs.Longitud.value_counts()"
   ]
  },
  {
   "cell_type": "code",
   "execution_count": 60,
   "metadata": {},
   "outputs": [
    {
     "data": {
      "text/plain": [
       "Latitud\n",
       "SD                  1209\n",
       "-34.549795102200      40\n",
       "-34.622149537067      35\n",
       "-34.626938657191      29\n",
       "-34.552046            27\n",
       "                    ... \n",
       "-34.568849             1\n",
       "-34.572013             1\n",
       "-34.563267             1\n",
       "-34.673866             1\n",
       "-3472890716            1\n",
       "Name: count, Length: 14362, dtype: int64"
      ]
     },
     "execution_count": 60,
     "metadata": {},
     "output_type": "execute_result"
    }
   ],
   "source": [
    "siniestrosLocs.Latitud.value_counts()"
   ]
  },
  {
   "cell_type": "code",
   "execution_count": 61,
   "metadata": {},
   "outputs": [],
   "source": [
    "siniestrosLocs[\"Longitud\"] = siniestrosLocs[\"Longitud\"].replace(\"SD\", None)\n",
    "siniestrosLocs[\"Latitud\"] = siniestrosLocs[\"Latitud\"].replace(\"SD\", None)"
   ]
  },
  {
   "cell_type": "markdown",
   "metadata": {},
   "source": [
    "**Columna IdComuna**\n",
    "\n",
    "1. *Revisamos la cantidad de registros por comuna.*\n",
    "2. *Observamos registros \"SD\", \"No Especificada\" y \"0\", los cambiamos por None.*"
   ]
  },
  {
   "cell_type": "code",
   "execution_count": 62,
   "metadata": {},
   "outputs": [
    {
     "data": {
      "text/plain": [
       "IdComuna\n",
       "1                  2616\n",
       "15                 1952\n",
       "4                  1805\n",
       "3                  1763\n",
       "9                  1747\n",
       "14                 1616\n",
       "7                  1576\n",
       "12                 1477\n",
       "11                 1443\n",
       "13                 1395\n",
       "10                 1376\n",
       "5                  1248\n",
       "8                  1127\n",
       "6                   978\n",
       "2                   903\n",
       "SD                  846\n",
       "No Especificada     442\n",
       "0                     2\n",
       "Name: count, dtype: int64"
      ]
     },
     "execution_count": 62,
     "metadata": {},
     "output_type": "execute_result"
    }
   ],
   "source": [
    "siniestrosLocs.IdComuna.value_counts()"
   ]
  },
  {
   "cell_type": "code",
   "execution_count": 63,
   "metadata": {},
   "outputs": [],
   "source": [
    "siniestrosLocs[\"IdComuna\"] = siniestrosLocs[\"IdComuna\"].replace(\"SD\", None)\n",
    "siniestrosLocs[\"IdComuna\"] = siniestrosLocs[\"IdComuna\"].replace(\"No Especificada\", None)\n",
    "siniestrosLocs[\"IdComuna\"] = siniestrosLocs[\"IdComuna\"].replace(0, None)"
   ]
  },
  {
   "cell_type": "markdown",
   "metadata": {},
   "source": [
    "**Columna TipoVia**\n",
    "\n",
    "1. *Revisamos la cantidad de registros por tipo de via.*\n",
    "2. *Observamos registros \"SD\", los cambiamos por None.*\n",
    "3. *Observamos registros \"AVENIDA\", estos los reemplazamos por Via Principal (Via Intermedia) .*\n",
    "4. *Observamos registros \"CALLE\", estos los reemplazamos por Via Local (Via Baja) .*\n",
    "5. *Observamos registros \"AUTOPISTA\" y \"GRAL PAZ, estos los reemplazamos por Autopista (Via Alta). De acuerdo a la búsqueda en internet la avenida General Paz es considera una autopista.*"
   ]
  },
  {
   "cell_type": "code",
   "execution_count": 64,
   "metadata": {},
   "outputs": [
    {
     "data": {
      "text/plain": [
       "TipoVia\n",
       "SD           11045\n",
       "AVENIDA       7204\n",
       "CALLE         5519\n",
       "GRAL PAZ       603\n",
       "AUTOPISTA      110\n",
       "Name: count, dtype: int64"
      ]
     },
     "execution_count": 64,
     "metadata": {},
     "output_type": "execute_result"
    }
   ],
   "source": [
    "siniestrosLocs.TipoVia.value_counts()"
   ]
  },
  {
   "cell_type": "code",
   "execution_count": 65,
   "metadata": {},
   "outputs": [],
   "source": [
    "mapeo_vias = {\n",
    "    \"SD\": None,\n",
    "    \"AVENIDA\": \"Via Principal\",\n",
    "    \"CALLE\": \"Via Local\",\n",
    "    \"GRAL PAZ\": \"Autopista\",\n",
    "    \"AUTOPISTA\": \"Autopista\",\n",
    "}\n",
    "\n",
    "siniestrosLocs[\"TipoVia\"] = siniestrosLocs[\"TipoVia\"].replace(mapeo_vias)"
   ]
  },
  {
   "cell_type": "markdown",
   "metadata": {},
   "source": [
    "**Columna NombreVia**\n",
    "\n",
    "1. *Revisamos la cantidad de registros por NombreVia.*\n",
    "2. *Revisamos si existen registros \"SD\", pero no hay.*"
   ]
  },
  {
   "cell_type": "code",
   "execution_count": 66,
   "metadata": {},
   "outputs": [
    {
     "data": {
      "text/plain": [
       "NombreVia\n",
       "PAZ, GRAL. AV.             608\n",
       "RIVADAVIA AV.              371\n",
       "CORRIENTES AV.             280\n",
       "DEL LIBERTADOR AV.         269\n",
       "CORDOBA AV.                245\n",
       "                          ... \n",
       "SALTO                        1\n",
       "GRIERSON, CECILIA            1\n",
       "FILIBERTO, JUAN DE DIOS      1\n",
       "ELCANO                       1\n",
       "DERQUI AV.                   1\n",
       "Name: count, Length: 1044, dtype: int64"
      ]
     },
     "execution_count": 66,
     "metadata": {},
     "output_type": "execute_result"
    }
   ],
   "source": [
    "siniestrosLocs.NombreVia.value_counts()"
   ]
  },
  {
   "cell_type": "code",
   "execution_count": 67,
   "metadata": {},
   "outputs": [
    {
     "name": "stdout",
     "output_type": "stream",
     "text": [
      "Empty DataFrame\n",
      "Columns: [IdSiniestro, Longitud, Latitud, IdComuna, TipoVia, NombreVia]\n",
      "Index: []\n"
     ]
    }
   ],
   "source": [
    "filas_con_valor_SD = siniestrosLocs[siniestrosLocs[\"NombreVia\"] == \"SD\"]\n",
    "\n",
    "print(filas_con_valor_SD)\n"
   ]
  },
  {
   "cell_type": "markdown",
   "metadata": {},
   "source": [
    "#### Dataframe Victimas ####\n",
    "\n",
    "*Este dataframe contiene información asociada a las victimas de los siniestros, importante para analizar caracteristicas de ellos.*"
   ]
  },
  {
   "cell_type": "markdown",
   "metadata": {},
   "source": [
    "*Almacenamos en dfVictimasH1 solo las columnas que necesitaremos:*\n",
    "\n",
    "1. *Cambiamos el nombre de las columnas*.\n",
    "2. *Agregamos una nueva columna que indica el tipo de victima, para este dataframe todas son fallecidas*"
   ]
  },
  {
   "cell_type": "code",
   "execution_count": 68,
   "metadata": {},
   "outputs": [
    {
     "data": {
      "text/html": [
       "<div>\n",
       "<style scoped>\n",
       "    .dataframe tbody tr th:only-of-type {\n",
       "        vertical-align: middle;\n",
       "    }\n",
       "\n",
       "    .dataframe tbody tr th {\n",
       "        vertical-align: top;\n",
       "    }\n",
       "\n",
       "    .dataframe thead th {\n",
       "        text-align: right;\n",
       "    }\n",
       "</style>\n",
       "<table border=\"1\" class=\"dataframe\">\n",
       "  <thead>\n",
       "    <tr style=\"text-align: right;\">\n",
       "      <th></th>\n",
       "      <th>ID hecho</th>\n",
       "      <th>AAA</th>\n",
       "      <th>MM</th>\n",
       "      <th>DD</th>\n",
       "      <th>FECHA</th>\n",
       "      <th>VEHICULO_VICTIMA</th>\n",
       "      <th>SEXO</th>\n",
       "      <th>EDAD_VICTIMA</th>\n",
       "      <th>GRAVEDAD</th>\n",
       "    </tr>\n",
       "  </thead>\n",
       "  <tbody>\n",
       "    <tr>\n",
       "      <th>0</th>\n",
       "      <td>20190000053</td>\n",
       "      <td>2019</td>\n",
       "      <td>1</td>\n",
       "      <td>1</td>\n",
       "      <td>2019-01-01</td>\n",
       "      <td>sd</td>\n",
       "      <td>Varon</td>\n",
       "      <td>57</td>\n",
       "      <td>SD</td>\n",
       "    </tr>\n",
       "    <tr>\n",
       "      <th>1</th>\n",
       "      <td>20190000063</td>\n",
       "      <td>2019</td>\n",
       "      <td>1</td>\n",
       "      <td>1</td>\n",
       "      <td>2019-01-01</td>\n",
       "      <td>sd</td>\n",
       "      <td>SD</td>\n",
       "      <td>SD</td>\n",
       "      <td>SD</td>\n",
       "    </tr>\n",
       "    <tr>\n",
       "      <th>2</th>\n",
       "      <td>20190000079</td>\n",
       "      <td>2019</td>\n",
       "      <td>1</td>\n",
       "      <td>1</td>\n",
       "      <td>2019-01-01</td>\n",
       "      <td>sd</td>\n",
       "      <td>Varon</td>\n",
       "      <td>SD</td>\n",
       "      <td>SD</td>\n",
       "    </tr>\n",
       "    <tr>\n",
       "      <th>3</th>\n",
       "      <td>20190000082</td>\n",
       "      <td>2019</td>\n",
       "      <td>1</td>\n",
       "      <td>1</td>\n",
       "      <td>2019-01-01</td>\n",
       "      <td>sd</td>\n",
       "      <td>Varon</td>\n",
       "      <td>45</td>\n",
       "      <td>SD</td>\n",
       "    </tr>\n",
       "    <tr>\n",
       "      <th>4</th>\n",
       "      <td>20190000082</td>\n",
       "      <td>2019</td>\n",
       "      <td>1</td>\n",
       "      <td>1</td>\n",
       "      <td>2019-01-01</td>\n",
       "      <td>sd</td>\n",
       "      <td>Mujer</td>\n",
       "      <td>45</td>\n",
       "      <td>SD</td>\n",
       "    </tr>\n",
       "    <tr>\n",
       "      <th>...</th>\n",
       "      <td>...</td>\n",
       "      <td>...</td>\n",
       "      <td>...</td>\n",
       "      <td>...</td>\n",
       "      <td>...</td>\n",
       "      <td>...</td>\n",
       "      <td>...</td>\n",
       "      <td>...</td>\n",
       "      <td>...</td>\n",
       "    </tr>\n",
       "    <tr>\n",
       "      <th>27600</th>\n",
       "      <td>20210451911</td>\n",
       "      <td>2021</td>\n",
       "      <td>9</td>\n",
       "      <td>11</td>\n",
       "      <td>2021-09-11</td>\n",
       "      <td>TRANSPORTE PUBLICO</td>\n",
       "      <td>Varon</td>\n",
       "      <td>87</td>\n",
       "      <td>SD</td>\n",
       "    </tr>\n",
       "    <tr>\n",
       "      <th>27601</th>\n",
       "      <td>20210530228</td>\n",
       "      <td>2021</td>\n",
       "      <td>10</td>\n",
       "      <td>25</td>\n",
       "      <td>2021-10-25</td>\n",
       "      <td>TRANSPORTE PUBLICO</td>\n",
       "      <td>Mujer</td>\n",
       "      <td>60</td>\n",
       "      <td>SD</td>\n",
       "    </tr>\n",
       "    <tr>\n",
       "      <th>27602</th>\n",
       "      <td>20210530228</td>\n",
       "      <td>2021</td>\n",
       "      <td>10</td>\n",
       "      <td>25</td>\n",
       "      <td>2021-10-25</td>\n",
       "      <td>TRANSPORTE PUBLICO</td>\n",
       "      <td>Mujer</td>\n",
       "      <td>32</td>\n",
       "      <td>SD</td>\n",
       "    </tr>\n",
       "    <tr>\n",
       "      <th>27603</th>\n",
       "      <td>20210201378</td>\n",
       "      <td>2021</td>\n",
       "      <td>5</td>\n",
       "      <td>2</td>\n",
       "      <td>2021-05-02</td>\n",
       "      <td>MOTO</td>\n",
       "      <td>Varon</td>\n",
       "      <td>32</td>\n",
       "      <td>SD</td>\n",
       "    </tr>\n",
       "    <tr>\n",
       "      <th>27604</th>\n",
       "      <td>20210229350</td>\n",
       "      <td>2021</td>\n",
       "      <td>5</td>\n",
       "      <td>19</td>\n",
       "      <td>2021-05-19</td>\n",
       "      <td>MOTO</td>\n",
       "      <td>Varon</td>\n",
       "      <td>41</td>\n",
       "      <td>SD</td>\n",
       "    </tr>\n",
       "  </tbody>\n",
       "</table>\n",
       "<p>27605 rows × 9 columns</p>\n",
       "</div>"
      ],
      "text/plain": [
       "          ID hecho   AAA  MM  DD     FECHA     VEHICULO_VICTIMA   SEXO  \\\n",
       "0      20190000053  2019   1   1 2019-01-01                  sd  Varon   \n",
       "1      20190000063  2019   1   1 2019-01-01                  sd     SD   \n",
       "2      20190000079  2019   1   1 2019-01-01                  sd  Varon   \n",
       "3      20190000082  2019   1   1 2019-01-01                  sd  Varon   \n",
       "4      20190000082  2019   1   1 2019-01-01                  sd  Mujer   \n",
       "...            ...   ...  ..  ..        ...                 ...    ...   \n",
       "27600  20210451911  2021   9  11 2021-09-11  TRANSPORTE PUBLICO  Varon   \n",
       "27601  20210530228  2021  10  25 2021-10-25  TRANSPORTE PUBLICO  Mujer   \n",
       "27602  20210530228  2021  10  25 2021-10-25  TRANSPORTE PUBLICO  Mujer   \n",
       "27603  20210201378  2021   5   2 2021-05-02                MOTO  Varon   \n",
       "27604  20210229350  2021   5  19 2021-05-19                MOTO  Varon   \n",
       "\n",
       "      EDAD_VICTIMA GRAVEDAD  \n",
       "0               57       SD  \n",
       "1               SD       SD  \n",
       "2               SD       SD  \n",
       "3               45       SD  \n",
       "4               45       SD  \n",
       "...            ...      ...  \n",
       "27600           87       SD  \n",
       "27601           60       SD  \n",
       "27602           32       SD  \n",
       "27603           32       SD  \n",
       "27604           41       SD  \n",
       "\n",
       "[27605 rows x 9 columns]"
      ]
     },
     "execution_count": 68,
     "metadata": {},
     "output_type": "execute_result"
    }
   ],
   "source": [
    "dfVictimasL"
   ]
  },
  {
   "cell_type": "code",
   "execution_count": 69,
   "metadata": {},
   "outputs": [
    {
     "data": {
      "text/html": [
       "<div>\n",
       "<style scoped>\n",
       "    .dataframe tbody tr th:only-of-type {\n",
       "        vertical-align: middle;\n",
       "    }\n",
       "\n",
       "    .dataframe tbody tr th {\n",
       "        vertical-align: top;\n",
       "    }\n",
       "\n",
       "    .dataframe thead th {\n",
       "        text-align: right;\n",
       "    }\n",
       "</style>\n",
       "<table border=\"1\" class=\"dataframe\">\n",
       "  <thead>\n",
       "    <tr style=\"text-align: right;\">\n",
       "      <th></th>\n",
       "      <th>IdSiniestro</th>\n",
       "      <th>IdActorVictima</th>\n",
       "      <th>IdModoVictima</th>\n",
       "      <th>Sexo</th>\n",
       "      <th>Edad</th>\n",
       "      <th>TipoVictima</th>\n",
       "    </tr>\n",
       "  </thead>\n",
       "  <tbody>\n",
       "    <tr>\n",
       "      <th>0</th>\n",
       "      <td>20160001</td>\n",
       "      <td>CONDUCTOR</td>\n",
       "      <td>MOTO</td>\n",
       "      <td>MASCULINO</td>\n",
       "      <td>19</td>\n",
       "      <td>Fallecida</td>\n",
       "    </tr>\n",
       "    <tr>\n",
       "      <th>1</th>\n",
       "      <td>20160002</td>\n",
       "      <td>CONDUCTOR</td>\n",
       "      <td>AUTO</td>\n",
       "      <td>MASCULINO</td>\n",
       "      <td>70</td>\n",
       "      <td>Fallecida</td>\n",
       "    </tr>\n",
       "    <tr>\n",
       "      <th>2</th>\n",
       "      <td>20160003</td>\n",
       "      <td>CONDUCTOR</td>\n",
       "      <td>MOTO</td>\n",
       "      <td>MASCULINO</td>\n",
       "      <td>30</td>\n",
       "      <td>Fallecida</td>\n",
       "    </tr>\n",
       "  </tbody>\n",
       "</table>\n",
       "</div>"
      ],
      "text/plain": [
       "  IdSiniestro IdActorVictima IdModoVictima       Sexo Edad TipoVictima\n",
       "0    20160001      CONDUCTOR          MOTO  MASCULINO   19   Fallecida\n",
       "1    20160002      CONDUCTOR          AUTO  MASCULINO   70   Fallecida\n",
       "2    20160003      CONDUCTOR          MOTO  MASCULINO   30   Fallecida"
      ]
     },
     "execution_count": 69,
     "metadata": {},
     "output_type": "execute_result"
    }
   ],
   "source": [
    "dfVictimasH1 = dfVictimasH[[\"ID_hecho\", \"ROL\", \"VICTIMA\", \"SEXO\", \"EDAD\"]].copy()\n",
    "dfVictimasH1.columns = [\"IdSiniestro\", \"IdActorVictima\", \"IdModoVictima\", \"Sexo\", \"Edad\"]\n",
    "dfVictimasH1[\"TipoVictima\"] = \"Fallecida\"\n",
    "dfVictimasH1.head(3)"
   ]
  },
  {
   "cell_type": "markdown",
   "metadata": {},
   "source": [
    "*Creamos una sola columna para el Id de la victima, relacionando las dos columnas IdActorVictima y IdModoVictima*\n",
    "\n",
    "1. *Creamos una columna que una los valores de las dos columnas*.\n",
    "2. *Revisamos los datos que quedaron y establecemos un parametro de reemplazo.*"
   ]
  },
  {
   "cell_type": "code",
   "execution_count": 70,
   "metadata": {},
   "outputs": [],
   "source": [
    "dfVictimasH1[\"Victima\"]= dfVictimasH1[\"IdActorVictima\"] + \"-\" +  dfVictimasH1[\"IdModoVictima\"]"
   ]
  },
  {
   "cell_type": "code",
   "execution_count": 71,
   "metadata": {},
   "outputs": [
    {
     "data": {
      "text/plain": [
       "Victima\n",
       "PEATON-PEATON                     267\n",
       "CONDUCTOR-MOTO                    261\n",
       "CONDUCTOR-AUTO                     65\n",
       "PASAJERO_ACOMPAÑANTE-MOTO          39\n",
       "PASAJERO_ACOMPAÑANTE-AUTO          29\n",
       "CICLISTA-BICICLETA                 29\n",
       "SD-SD                               8\n",
       "PASAJERO_ACOMPAÑANTE-PASAJEROS      5\n",
       "PASAJERO_ACOMPAÑANTE-CARGAS         4\n",
       "SD-MOTO                             3\n",
       "CONDUCTOR-CARGAS                    3\n",
       "PASAJERO_ACOMPAÑANTE-MOVIL          2\n",
       "PASAJERO_ACOMPAÑANTE-SD             1\n",
       "CONDUCTOR-MOVIL                     1\n",
       "Name: count, dtype: int64"
      ]
     },
     "execution_count": 71,
     "metadata": {},
     "output_type": "execute_result"
    }
   ],
   "source": [
    "dfVictimasH1.Victima.value_counts()"
   ]
  },
  {
   "cell_type": "code",
   "execution_count": 72,
   "metadata": {},
   "outputs": [],
   "source": [
    "mapeoVicAct = {\n",
    "    \"PEATON-PEATON\": \"1\",\n",
    "    \"CONDUCTOR-MOTO\": \"5\",\n",
    "    \"CONDUCTOR-AUTO\": \"3\",\n",
    "    \"PASAJERO_ACOMPAÑANTE-MOTO\": \"4\",\n",
    "    \"PASAJERO_ACOMPAÑANTE-AUTO\": \"4\",\n",
    "    \"CICLISTA-BICICLETA\": \"2\",\n",
    "    \"SD-SD\": None,\n",
    "    \"PASAJERO_ACOMPAÑANTE-PASAJEROS\": \"4\",\n",
    "    \"PASAJERO_ACOMPAÑANTE-CARGAS\": \"4\",\n",
    "    \"SD-MOTO\": \"5\",\n",
    "    \"CONDUCTOR-CARGAS\": \"3\",\n",
    "    \"PASAJERO_ACOMPAÑANTE-MOVIL\": \"4\",\n",
    "    \"PASAJERO_ACOMPAÑANTE-SD\": \"4\",\n",
    "    \"CONDUCTOR-MOVIL\": \"3\",\n",
    "}\n",
    "\n",
    "dfVictimasH1[\"IdActorVictima\"] = dfVictimasH1[\"Victima\"].replace(mapeoVicAct)"
   ]
  },
  {
   "cell_type": "code",
   "execution_count": 73,
   "metadata": {},
   "outputs": [],
   "source": [
    "dfVictimasH1 = dfVictimasH1.drop(columns=['IdModoVictima', 'Victima'])"
   ]
  },
  {
   "cell_type": "markdown",
   "metadata": {},
   "source": [
    "*Almacenamos en dfVictimasL1 solo las columnas que necesitaremos:*\n",
    "\n",
    "1. *Cambiamos el nombre de las columnas*.\n",
    "2. *Agregamos una nueva columna que indica el tipo de victima, para este dataframe todas son fallecidas*"
   ]
  },
  {
   "cell_type": "code",
   "execution_count": 74,
   "metadata": {},
   "outputs": [
    {
     "data": {
      "text/html": [
       "<div>\n",
       "<style scoped>\n",
       "    .dataframe tbody tr th:only-of-type {\n",
       "        vertical-align: middle;\n",
       "    }\n",
       "\n",
       "    .dataframe tbody tr th {\n",
       "        vertical-align: top;\n",
       "    }\n",
       "\n",
       "    .dataframe thead th {\n",
       "        text-align: right;\n",
       "    }\n",
       "</style>\n",
       "<table border=\"1\" class=\"dataframe\">\n",
       "  <thead>\n",
       "    <tr style=\"text-align: right;\">\n",
       "      <th></th>\n",
       "      <th>IdSiniestro</th>\n",
       "      <th>IdActorVictima</th>\n",
       "      <th>Sexo</th>\n",
       "      <th>Edad</th>\n",
       "      <th>TipoVictima</th>\n",
       "    </tr>\n",
       "  </thead>\n",
       "  <tbody>\n",
       "    <tr>\n",
       "      <th>0</th>\n",
       "      <td>20190000053</td>\n",
       "      <td>sd</td>\n",
       "      <td>Varon</td>\n",
       "      <td>57</td>\n",
       "      <td>SD</td>\n",
       "    </tr>\n",
       "    <tr>\n",
       "      <th>1</th>\n",
       "      <td>20190000063</td>\n",
       "      <td>sd</td>\n",
       "      <td>SD</td>\n",
       "      <td>SD</td>\n",
       "      <td>SD</td>\n",
       "    </tr>\n",
       "    <tr>\n",
       "      <th>2</th>\n",
       "      <td>20190000079</td>\n",
       "      <td>sd</td>\n",
       "      <td>Varon</td>\n",
       "      <td>SD</td>\n",
       "      <td>SD</td>\n",
       "    </tr>\n",
       "  </tbody>\n",
       "</table>\n",
       "</div>"
      ],
      "text/plain": [
       "   IdSiniestro IdActorVictima   Sexo Edad TipoVictima\n",
       "0  20190000053             sd  Varon   57          SD\n",
       "1  20190000063             sd     SD   SD          SD\n",
       "2  20190000079             sd  Varon   SD          SD"
      ]
     },
     "execution_count": 74,
     "metadata": {},
     "output_type": "execute_result"
    }
   ],
   "source": [
    "dfVictimasL1 = dfVictimasL[[\"ID hecho\", \"VEHICULO_VICTIMA\", \"SEXO\", \"EDAD_VICTIMA\", \"GRAVEDAD\"]].copy()\n",
    "dfVictimasL1.columns = [\"IdSiniestro\", \"IdActorVictima\", \"Sexo\", \"Edad\", \"TipoVictima\"]\n",
    "dfVictimasL1.head(3)"
   ]
  },
  {
   "cell_type": "markdown",
   "metadata": {},
   "source": [
    "*Concatenamos los dataframes:*"
   ]
  },
  {
   "cell_type": "code",
   "execution_count": 75,
   "metadata": {},
   "outputs": [
    {
     "data": {
      "text/html": [
       "<div>\n",
       "<style scoped>\n",
       "    .dataframe tbody tr th:only-of-type {\n",
       "        vertical-align: middle;\n",
       "    }\n",
       "\n",
       "    .dataframe tbody tr th {\n",
       "        vertical-align: top;\n",
       "    }\n",
       "\n",
       "    .dataframe thead th {\n",
       "        text-align: right;\n",
       "    }\n",
       "</style>\n",
       "<table border=\"1\" class=\"dataframe\">\n",
       "  <thead>\n",
       "    <tr style=\"text-align: right;\">\n",
       "      <th></th>\n",
       "      <th>IdSiniestro</th>\n",
       "      <th>IdActorVictima</th>\n",
       "      <th>Sexo</th>\n",
       "      <th>Edad</th>\n",
       "      <th>TipoVictima</th>\n",
       "    </tr>\n",
       "  </thead>\n",
       "  <tbody>\n",
       "    <tr>\n",
       "      <th>0</th>\n",
       "      <td>20160001</td>\n",
       "      <td>5</td>\n",
       "      <td>MASCULINO</td>\n",
       "      <td>19</td>\n",
       "      <td>Fallecida</td>\n",
       "    </tr>\n",
       "    <tr>\n",
       "      <th>1</th>\n",
       "      <td>20160002</td>\n",
       "      <td>3</td>\n",
       "      <td>MASCULINO</td>\n",
       "      <td>70</td>\n",
       "      <td>Fallecida</td>\n",
       "    </tr>\n",
       "    <tr>\n",
       "      <th>2</th>\n",
       "      <td>20160003</td>\n",
       "      <td>5</td>\n",
       "      <td>MASCULINO</td>\n",
       "      <td>30</td>\n",
       "      <td>Fallecida</td>\n",
       "    </tr>\n",
       "    <tr>\n",
       "      <th>3</th>\n",
       "      <td>20160004</td>\n",
       "      <td>5</td>\n",
       "      <td>MASCULINO</td>\n",
       "      <td>18</td>\n",
       "      <td>Fallecida</td>\n",
       "    </tr>\n",
       "    <tr>\n",
       "      <th>4</th>\n",
       "      <td>20160005</td>\n",
       "      <td>5</td>\n",
       "      <td>MASCULINO</td>\n",
       "      <td>29</td>\n",
       "      <td>Fallecida</td>\n",
       "    </tr>\n",
       "    <tr>\n",
       "      <th>...</th>\n",
       "      <td>...</td>\n",
       "      <td>...</td>\n",
       "      <td>...</td>\n",
       "      <td>...</td>\n",
       "      <td>...</td>\n",
       "    </tr>\n",
       "    <tr>\n",
       "      <th>27600</th>\n",
       "      <td>20210451911</td>\n",
       "      <td>TRANSPORTE PUBLICO</td>\n",
       "      <td>Varon</td>\n",
       "      <td>87</td>\n",
       "      <td>SD</td>\n",
       "    </tr>\n",
       "    <tr>\n",
       "      <th>27601</th>\n",
       "      <td>20210530228</td>\n",
       "      <td>TRANSPORTE PUBLICO</td>\n",
       "      <td>Mujer</td>\n",
       "      <td>60</td>\n",
       "      <td>SD</td>\n",
       "    </tr>\n",
       "    <tr>\n",
       "      <th>27602</th>\n",
       "      <td>20210530228</td>\n",
       "      <td>TRANSPORTE PUBLICO</td>\n",
       "      <td>Mujer</td>\n",
       "      <td>32</td>\n",
       "      <td>SD</td>\n",
       "    </tr>\n",
       "    <tr>\n",
       "      <th>27603</th>\n",
       "      <td>20210201378</td>\n",
       "      <td>MOTO</td>\n",
       "      <td>Varon</td>\n",
       "      <td>32</td>\n",
       "      <td>SD</td>\n",
       "    </tr>\n",
       "    <tr>\n",
       "      <th>27604</th>\n",
       "      <td>20210229350</td>\n",
       "      <td>MOTO</td>\n",
       "      <td>Varon</td>\n",
       "      <td>41</td>\n",
       "      <td>SD</td>\n",
       "    </tr>\n",
       "  </tbody>\n",
       "</table>\n",
       "<p>28322 rows × 5 columns</p>\n",
       "</div>"
      ],
      "text/plain": [
       "       IdSiniestro      IdActorVictima       Sexo Edad TipoVictima\n",
       "0         20160001                   5  MASCULINO   19   Fallecida\n",
       "1         20160002                   3  MASCULINO   70   Fallecida\n",
       "2         20160003                   5  MASCULINO   30   Fallecida\n",
       "3         20160004                   5  MASCULINO   18   Fallecida\n",
       "4         20160005                   5  MASCULINO   29   Fallecida\n",
       "...            ...                 ...        ...  ...         ...\n",
       "27600  20210451911  TRANSPORTE PUBLICO      Varon   87          SD\n",
       "27601  20210530228  TRANSPORTE PUBLICO      Mujer   60          SD\n",
       "27602  20210530228  TRANSPORTE PUBLICO      Mujer   32          SD\n",
       "27603  20210201378                MOTO      Varon   32          SD\n",
       "27604  20210229350                MOTO      Varon   41          SD\n",
       "\n",
       "[28322 rows x 5 columns]"
      ]
     },
     "execution_count": 75,
     "metadata": {},
     "output_type": "execute_result"
    }
   ],
   "source": [
    "victimasCABA = pd.concat([dfVictimasH1, dfVictimasL1])\n",
    "victimasCABA"
   ]
  },
  {
   "cell_type": "markdown",
   "metadata": {},
   "source": [
    "**Revisamos cada una de las columnas**"
   ]
  },
  {
   "cell_type": "markdown",
   "metadata": {},
   "source": [
    "**Columna IdSiniestro**\n",
    "\n",
    "1. *Revisamos si existen valores repetidos, si existen pero recordemos que en un siniestro pueden existir más de una víctima.*"
   ]
  },
  {
   "cell_type": "code",
   "execution_count": 76,
   "metadata": {},
   "outputs": [
    {
     "data": {
      "text/plain": [
       "IdSiniestro\n",
       "20190188476    16\n",
       "20190291069    16\n",
       "20190049800    10\n",
       "20210137640    10\n",
       "20190655333    10\n",
       "               ..\n",
       "20190635165     1\n",
       "20190616529     1\n",
       "20190616483     1\n",
       "20190616260     1\n",
       "20210229350     1\n",
       "Name: count, Length: 24481, dtype: int64"
      ]
     },
     "execution_count": 76,
     "metadata": {},
     "output_type": "execute_result"
    }
   ],
   "source": [
    "victimasCABA.IdSiniestro.value_counts()"
   ]
  },
  {
   "cell_type": "markdown",
   "metadata": {},
   "source": [
    "**Columna IdActorVictima**\n",
    "\n",
    "1. *Revisamos si existen valores extraños.*\n",
    "2. *Observamos que existen valores \"SD\", los reemplazamos por nulos. TENEMOS MUCHO VALORES DE ESTE TIPO*"
   ]
  },
  {
   "cell_type": "code",
   "execution_count": 77,
   "metadata": {},
   "outputs": [
    {
     "data": {
      "text/plain": [
       "IdActorVictima\n",
       "sd                    11793\n",
       "MOTO                   4778\n",
       "SD                     4479\n",
       "CICLISTA               1759\n",
       "PEATON                 1685\n",
       "AUTO                   1641\n",
       "TRANSPORTE PUBLICO      680\n",
       "1                       267\n",
       "5                       264\n",
       "TAXI                    241\n",
       "UTILITARIO              231\n",
       "MOVIL                   131\n",
       "MIXTO                   113\n",
       "4                        80\n",
       "3                        69\n",
       "CAMION                   40\n",
       "2                        29\n",
       "MONOPATIN                27\n",
       "OTRO                      7\n",
       "Name: count, dtype: int64"
      ]
     },
     "execution_count": 77,
     "metadata": {},
     "output_type": "execute_result"
    }
   ],
   "source": [
    "victimasCABA.IdActorVictima.value_counts()"
   ]
  },
  {
   "cell_type": "code",
   "execution_count": 78,
   "metadata": {},
   "outputs": [
    {
     "data": {
      "text/html": [
       "<div>\n",
       "<style scoped>\n",
       "    .dataframe tbody tr th:only-of-type {\n",
       "        vertical-align: middle;\n",
       "    }\n",
       "\n",
       "    .dataframe tbody tr th {\n",
       "        vertical-align: top;\n",
       "    }\n",
       "\n",
       "    .dataframe thead th {\n",
       "        text-align: right;\n",
       "    }\n",
       "</style>\n",
       "<table border=\"1\" class=\"dataframe\">\n",
       "  <thead>\n",
       "    <tr style=\"text-align: right;\">\n",
       "      <th></th>\n",
       "      <th>IdActor</th>\n",
       "      <th>Actor</th>\n",
       "    </tr>\n",
       "  </thead>\n",
       "  <tbody>\n",
       "    <tr>\n",
       "      <th>0</th>\n",
       "      <td>1</td>\n",
       "      <td>Peatón</td>\n",
       "    </tr>\n",
       "    <tr>\n",
       "      <th>1</th>\n",
       "      <td>2</td>\n",
       "      <td>Ciclista</td>\n",
       "    </tr>\n",
       "    <tr>\n",
       "      <th>2</th>\n",
       "      <td>3</td>\n",
       "      <td>Conductor</td>\n",
       "    </tr>\n",
       "    <tr>\n",
       "      <th>3</th>\n",
       "      <td>4</td>\n",
       "      <td>Pasajero</td>\n",
       "    </tr>\n",
       "    <tr>\n",
       "      <th>4</th>\n",
       "      <td>5</td>\n",
       "      <td>Motociclista</td>\n",
       "    </tr>\n",
       "  </tbody>\n",
       "</table>\n",
       "</div>"
      ],
      "text/plain": [
       "   IdActor         Actor\n",
       "0        1        Peatón\n",
       "1        2      Ciclista\n",
       "2        3     Conductor\n",
       "3        4      Pasajero\n",
       "4        5  Motociclista"
      ]
     },
     "execution_count": 78,
     "metadata": {},
     "output_type": "execute_result"
    }
   ],
   "source": [
    "dfActores"
   ]
  },
  {
   "cell_type": "markdown",
   "metadata": {},
   "source": [
    "*Mapeamos los valores para coincidir con la información de actores viales:*"
   ]
  },
  {
   "cell_type": "code",
   "execution_count": 79,
   "metadata": {},
   "outputs": [],
   "source": [
    "mapeo_actores = {\n",
    "    \"sd\": None,\n",
    "    \"MOTO\": \"5\",\n",
    "    \"SD\": None,\n",
    "    \"PEATON\": \"1\",\n",
    "    \"CICLISTA\": \"2\",\n",
    "    \"AUTO\": \"3\",\n",
    "    \"TRANSPORTE PUBLICO\": \"4\",\n",
    "    \"CONDUCTOR\": \"3\",\n",
    "    \"TAXI\": \"3\",\n",
    "    \"UTILITARIO\": \"3\",\n",
    "    \"MOVIL\": \"3\",\n",
    "    \"MIXTO\": \"4\",\n",
    "    \"PASAJERO_ACOMPAÑANTE\": \"4\",\n",
    "    \"CAMION\": \"3\",\n",
    "    \"MONOPATIN\": \"2\",\n",
    "    \"OTRO\": None,\n",
    "}\n",
    "\n",
    "victimasCABA[\"IdActorVictima\"] = victimasCABA[\"IdActorVictima\"].replace(mapeo_actores)"
   ]
  },
  {
   "cell_type": "code",
   "execution_count": 80,
   "metadata": {},
   "outputs": [
    {
     "data": {
      "text/plain": [
       "IdActorVictima\n",
       "5    5042\n",
       "3    2353\n",
       "1    1952\n",
       "2    1815\n",
       "4     873\n",
       "Name: count, dtype: int64"
      ]
     },
     "execution_count": 80,
     "metadata": {},
     "output_type": "execute_result"
    }
   ],
   "source": [
    "victimasCABA.IdActorVictima.value_counts()"
   ]
  },
  {
   "cell_type": "markdown",
   "metadata": {},
   "source": [
    "**Columna Sexo**\n",
    "\n",
    "1. *Revisamos si existen valores extraños.*\n",
    "2. *Observamos que existen diferentes tipos de valores que debemos resumir solo en dos.*"
   ]
  },
  {
   "cell_type": "code",
   "execution_count": 81,
   "metadata": {},
   "outputs": [
    {
     "data": {
      "text/plain": [
       "Sexo\n",
       "Varon        16796\n",
       "Mujer         8246\n",
       "SD            1935\n",
       "MASCULINO      545\n",
       "sd             299\n",
       "varon          226\n",
       "FEMENINO       166\n",
       "MUJER           62\n",
       "mujer           46\n",
       "Mujer            1\n",
       "Name: count, dtype: int64"
      ]
     },
     "execution_count": 81,
     "metadata": {},
     "output_type": "execute_result"
    }
   ],
   "source": [
    "victimasCABA.Sexo.value_counts()"
   ]
  },
  {
   "cell_type": "code",
   "execution_count": 82,
   "metadata": {},
   "outputs": [],
   "source": [
    "mapeo_sexos = {\n",
    "    \"Varon\": \"Masculino\",\n",
    "    \"Mujer\": \"Femenino\",\n",
    "    \"SD\": None,\n",
    "    \"MASCULINO\": \"Masculino\",\n",
    "    \"sd\": None,\n",
    "    \"varon\": \"Masculino\",\n",
    "    \"FEMENINO\": \"Femenino\",\n",
    "    \"MUJER\": \"Femenino\",\n",
    "    \"mujer\": \"Femenino\",\n",
    "    \"Mujer \": \"Femenino\",\n",
    "}\n",
    "\n",
    "victimasCABA[\"Sexo\"] = victimasCABA[\"Sexo\"].replace(mapeo_sexos)"
   ]
  },
  {
   "cell_type": "code",
   "execution_count": 83,
   "metadata": {},
   "outputs": [
    {
     "data": {
      "text/plain": [
       "Sexo\n",
       "Masculino    17567\n",
       "Femenino      8521\n",
       "Name: count, dtype: int64"
      ]
     },
     "execution_count": 83,
     "metadata": {},
     "output_type": "execute_result"
    }
   ],
   "source": [
    "victimasCABA.Sexo.value_counts()"
   ]
  },
  {
   "cell_type": "markdown",
   "metadata": {},
   "source": [
    "**Columna Edad**\n",
    "\n",
    "1. *Revisamos si existen valores extraños.*\n",
    "2. *Observamos que existen diferentes valores para edad, para un mejor análisis vamos a convertir esta columna en rangos de edad*"
   ]
  },
  {
   "cell_type": "code",
   "execution_count": 84,
   "metadata": {},
   "outputs": [
    {
     "data": {
      "text/plain": [
       "Edad\n",
       "SD     4043\n",
       "29      692\n",
       "28      666\n",
       "30      662\n",
       "25      638\n",
       "       ... \n",
       "94        1\n",
       "97        1\n",
       "88        1\n",
       "96        1\n",
       "100       1\n",
       "Name: count, Length: 191, dtype: int64"
      ]
     },
     "execution_count": 84,
     "metadata": {},
     "output_type": "execute_result"
    }
   ],
   "source": [
    "victimasCABA.Edad.value_counts()"
   ]
  },
  {
   "cell_type": "code",
   "execution_count": 85,
   "metadata": {},
   "outputs": [],
   "source": [
    "victimasCABA[\"Edad\"] = victimasCABA[\"Edad\"].replace(\"SD\", \"0\")\n",
    "victimasCABA[\"Edad\"] = victimasCABA[\"Edad\"].replace(\"sd\", \"0\")"
   ]
  },
  {
   "cell_type": "code",
   "execution_count": 86,
   "metadata": {},
   "outputs": [],
   "source": [
    "victimasCABA[\"Edad\"] = victimasCABA[\"Edad\"].astype(int)"
   ]
  },
  {
   "cell_type": "code",
   "execution_count": 87,
   "metadata": {},
   "outputs": [
    {
     "data": {
      "text/html": [
       "<div>\n",
       "<style scoped>\n",
       "    .dataframe tbody tr th:only-of-type {\n",
       "        vertical-align: middle;\n",
       "    }\n",
       "\n",
       "    .dataframe tbody tr th {\n",
       "        vertical-align: top;\n",
       "    }\n",
       "\n",
       "    .dataframe thead th {\n",
       "        text-align: right;\n",
       "    }\n",
       "</style>\n",
       "<table border=\"1\" class=\"dataframe\">\n",
       "  <thead>\n",
       "    <tr style=\"text-align: right;\">\n",
       "      <th></th>\n",
       "      <th>IdSiniestro</th>\n",
       "      <th>IdActorVictima</th>\n",
       "      <th>Sexo</th>\n",
       "      <th>Edad</th>\n",
       "      <th>TipoVictima</th>\n",
       "    </tr>\n",
       "  </thead>\n",
       "  <tbody>\n",
       "    <tr>\n",
       "      <th>0</th>\n",
       "      <td>20160001</td>\n",
       "      <td>5</td>\n",
       "      <td>Masculino</td>\n",
       "      <td>19</td>\n",
       "      <td>Fallecida</td>\n",
       "    </tr>\n",
       "    <tr>\n",
       "      <th>1</th>\n",
       "      <td>20160002</td>\n",
       "      <td>3</td>\n",
       "      <td>Masculino</td>\n",
       "      <td>70</td>\n",
       "      <td>Fallecida</td>\n",
       "    </tr>\n",
       "    <tr>\n",
       "      <th>2</th>\n",
       "      <td>20160003</td>\n",
       "      <td>5</td>\n",
       "      <td>Masculino</td>\n",
       "      <td>30</td>\n",
       "      <td>Fallecida</td>\n",
       "    </tr>\n",
       "    <tr>\n",
       "      <th>3</th>\n",
       "      <td>20160004</td>\n",
       "      <td>5</td>\n",
       "      <td>Masculino</td>\n",
       "      <td>18</td>\n",
       "      <td>Fallecida</td>\n",
       "    </tr>\n",
       "    <tr>\n",
       "      <th>4</th>\n",
       "      <td>20160005</td>\n",
       "      <td>5</td>\n",
       "      <td>Masculino</td>\n",
       "      <td>29</td>\n",
       "      <td>Fallecida</td>\n",
       "    </tr>\n",
       "    <tr>\n",
       "      <th>...</th>\n",
       "      <td>...</td>\n",
       "      <td>...</td>\n",
       "      <td>...</td>\n",
       "      <td>...</td>\n",
       "      <td>...</td>\n",
       "    </tr>\n",
       "    <tr>\n",
       "      <th>27600</th>\n",
       "      <td>20210451911</td>\n",
       "      <td>4</td>\n",
       "      <td>Masculino</td>\n",
       "      <td>87</td>\n",
       "      <td>SD</td>\n",
       "    </tr>\n",
       "    <tr>\n",
       "      <th>27601</th>\n",
       "      <td>20210530228</td>\n",
       "      <td>4</td>\n",
       "      <td>Femenino</td>\n",
       "      <td>60</td>\n",
       "      <td>SD</td>\n",
       "    </tr>\n",
       "    <tr>\n",
       "      <th>27602</th>\n",
       "      <td>20210530228</td>\n",
       "      <td>4</td>\n",
       "      <td>Femenino</td>\n",
       "      <td>32</td>\n",
       "      <td>SD</td>\n",
       "    </tr>\n",
       "    <tr>\n",
       "      <th>27603</th>\n",
       "      <td>20210201378</td>\n",
       "      <td>5</td>\n",
       "      <td>Masculino</td>\n",
       "      <td>32</td>\n",
       "      <td>SD</td>\n",
       "    </tr>\n",
       "    <tr>\n",
       "      <th>27604</th>\n",
       "      <td>20210229350</td>\n",
       "      <td>5</td>\n",
       "      <td>Masculino</td>\n",
       "      <td>41</td>\n",
       "      <td>SD</td>\n",
       "    </tr>\n",
       "  </tbody>\n",
       "</table>\n",
       "<p>28322 rows × 5 columns</p>\n",
       "</div>"
      ],
      "text/plain": [
       "       IdSiniestro IdActorVictima       Sexo  Edad TipoVictima\n",
       "0         20160001              5  Masculino    19   Fallecida\n",
       "1         20160002              3  Masculino    70   Fallecida\n",
       "2         20160003              5  Masculino    30   Fallecida\n",
       "3         20160004              5  Masculino    18   Fallecida\n",
       "4         20160005              5  Masculino    29   Fallecida\n",
       "...            ...            ...        ...   ...         ...\n",
       "27600  20210451911              4  Masculino    87          SD\n",
       "27601  20210530228              4   Femenino    60          SD\n",
       "27602  20210530228              4   Femenino    32          SD\n",
       "27603  20210201378              5  Masculino    32          SD\n",
       "27604  20210229350              5  Masculino    41          SD\n",
       "\n",
       "[28322 rows x 5 columns]"
      ]
     },
     "execution_count": 87,
     "metadata": {},
     "output_type": "execute_result"
    }
   ],
   "source": [
    "victimasCABA"
   ]
  },
  {
   "cell_type": "code",
   "execution_count": 88,
   "metadata": {},
   "outputs": [],
   "source": [
    "# Definimos las condiciones para cada rango de edad y los rangos etarios correspondientes.\n",
    "condiciones = [\n",
    "    (victimasCABA[\"Edad\"] == 0),\n",
    "    (victimasCABA[\"Edad\"] >= 1) & (victimasCABA[\"Edad\"] <= 9),\n",
    "    (victimasCABA[\"Edad\"] >= 10) & (victimasCABA[\"Edad\"] <= 17),\n",
    "    (victimasCABA[\"Edad\"] >= 18) & (victimasCABA[\"Edad\"] <= 29),\n",
    "    (victimasCABA[\"Edad\"] >= 30) & (victimasCABA[\"Edad\"] <= 39),\n",
    "    (victimasCABA[\"Edad\"] >= 40) & (victimasCABA[\"Edad\"] <= 49),\n",
    "    (victimasCABA[\"Edad\"] >= 50) & (victimasCABA[\"Edad\"] <= 59),\n",
    "    (victimasCABA[\"Edad\"] >= 60)\n",
    "]\n",
    "rango = [\n",
    "    None, \"Infante\", \"Adolescente\", \"Adulto Joven\", \"Adulto 30 a 39\", \"Adulto 40 a 49\", \"Adulto 50 a 59\", \"Adulto Mayor\"\n",
    "]\n",
    "\n",
    "# Utilizamos loc para asignar los valores del rango de edad basados en las condiciones\n",
    "for i in range(len(condiciones)):\n",
    "    victimasCABA.loc[condiciones[i], \"RangoEtario\"] = rango[i]\n"
   ]
  },
  {
   "cell_type": "code",
   "execution_count": 89,
   "metadata": {},
   "outputs": [],
   "source": [
    "del victimasCABA[\"Edad\"]"
   ]
  },
  {
   "cell_type": "markdown",
   "metadata": {},
   "source": [
    "**Columna TipoVictima**\n",
    "\n",
    "1. *Revisamos si existen valores extraños.*\n",
    "2. *Observamos que existen diferentes valores para TipoVictima, los valores SD los reemplazamos por \"Lesionada\", ya que por esta razón pertenecia a la base de datos y los valores grave como \"Gravemente Lesionada\"*"
   ]
  },
  {
   "cell_type": "code",
   "execution_count": 90,
   "metadata": {},
   "outputs": [
    {
     "data": {
      "text/plain": [
       "TipoVictima\n",
       "SD           20722\n",
       "sd            6346\n",
       "Fallecida      717\n",
       "GRAVE          536\n",
       "grave            1\n",
       "Name: count, dtype: int64"
      ]
     },
     "execution_count": 90,
     "metadata": {},
     "output_type": "execute_result"
    }
   ],
   "source": [
    "victimasCABA.TipoVictima.value_counts()"
   ]
  },
  {
   "cell_type": "code",
   "execution_count": 91,
   "metadata": {},
   "outputs": [],
   "source": [
    "victimasCABA[\"TipoVictima\"] = victimasCABA[\"TipoVictima\"].replace(\"SD\", \"Lesionada\")\n",
    "victimasCABA[\"TipoVictima\"] = victimasCABA[\"TipoVictima\"].replace(\"sd\", \"Lesionada\")\n",
    "victimasCABA[\"TipoVictima\"] = victimasCABA[\"TipoVictima\"].replace(\"GRAVE\", \"Gravemente Lesionada\")\n",
    "victimasCABA[\"TipoVictima\"] = victimasCABA[\"TipoVictima\"].replace(\"grave\", \"Gravemente Lesionada\")"
   ]
  },
  {
   "cell_type": "markdown",
   "metadata": {},
   "source": [
    "### **Análisis Exploratorio Final** ###\n",
    "---\n",
    "\n",
    "*Aquí hacemos una revisión de los datos después de su transformación, con el objetivo de revisar si quedaron datos pendientes por transformar*.\n",
    "\n",
    "**Nota:** *Posterior a todas las transformaciones se realiza un EDA final, presente en el archivo EDA.ipynb*"
   ]
  },
  {
   "cell_type": "markdown",
   "metadata": {},
   "source": [
    "*Obtenemos una descripción de las columnas, sus tipos de datos y sus valores no nulos del dataframe **siniestrosCABA**:*\n",
    "\n",
    "1. *El total de registros es de **24481***\n",
    "2. *Existen 2 columnas con gran cantidad de registros nulos, sin embargo decidimos no eliminar estos registros ya que perderíamos más de la mitad de la información, por lo tanto en el análisis de los datos revisaremos esto a detalle.*"
   ]
  },
  {
   "cell_type": "code",
   "execution_count": 92,
   "metadata": {},
   "outputs": [
    {
     "name": "stdout",
     "output_type": "stream",
     "text": [
      "<class 'pandas.core.frame.DataFrame'>\n",
      "Index: 24481 entries, 0 to 23784\n",
      "Data columns (total 11 columns):\n",
      " #   Column               Non-Null Count  Dtype         \n",
      "---  ------               --------------  -----         \n",
      " 0   IdSiniestro          24481 non-null  int64         \n",
      " 1   NumeroVictimas       24481 non-null  int64         \n",
      " 2   Año                  24481 non-null  int64         \n",
      " 3   Mes                  24481 non-null  int64         \n",
      " 4   Dia                  24481 non-null  int64         \n",
      " 5   Hora                 24471 non-null  object        \n",
      " 6   IdTransporteVictima  13739 non-null  object        \n",
      " 7   IdTransporteAcusado  9170 non-null   object        \n",
      " 8   Gravedad             24481 non-null  object        \n",
      " 9   Fecha                24481 non-null  datetime64[ns]\n",
      " 10  DiaSemana            24481 non-null  object        \n",
      "dtypes: datetime64[ns](1), int64(5), object(5)\n",
      "memory usage: 2.2+ MB\n"
     ]
    }
   ],
   "source": [
    "siniestrosCABA.info()"
   ]
  },
  {
   "cell_type": "markdown",
   "metadata": {},
   "source": [
    "*Obtenemos una descripción estadística de los datos numéricos:*\n",
    "\n",
    "1. *El promedio de número de víctimas por siniestro es de **1.15**.*\n",
    "2. *El siniestros con mayor cantidad de victimas representó **16 victimas incolucradas**.*"
   ]
  },
  {
   "cell_type": "code",
   "execution_count": 93,
   "metadata": {},
   "outputs": [
    {
     "data": {
      "text/html": [
       "<div>\n",
       "<style scoped>\n",
       "    .dataframe tbody tr th:only-of-type {\n",
       "        vertical-align: middle;\n",
       "    }\n",
       "\n",
       "    .dataframe tbody tr th {\n",
       "        vertical-align: top;\n",
       "    }\n",
       "\n",
       "    .dataframe thead th {\n",
       "        text-align: right;\n",
       "    }\n",
       "</style>\n",
       "<table border=\"1\" class=\"dataframe\">\n",
       "  <thead>\n",
       "    <tr style=\"text-align: right;\">\n",
       "      <th></th>\n",
       "      <th>IdSiniestro</th>\n",
       "      <th>NumeroVictimas</th>\n",
       "      <th>Año</th>\n",
       "      <th>Mes</th>\n",
       "      <th>Dia</th>\n",
       "      <th>Fecha</th>\n",
       "    </tr>\n",
       "  </thead>\n",
       "  <tbody>\n",
       "    <tr>\n",
       "      <th>count</th>\n",
       "      <td>2.448100e+04</td>\n",
       "      <td>24481.000000</td>\n",
       "      <td>24481.000000</td>\n",
       "      <td>24481.000000</td>\n",
       "      <td>24481.000000</td>\n",
       "      <td>24481</td>\n",
       "    </tr>\n",
       "    <tr>\n",
       "      <th>mean</th>\n",
       "      <td>1.969257e+10</td>\n",
       "      <td>1.156856</td>\n",
       "      <td>2019.852620</td>\n",
       "      <td>6.600261</td>\n",
       "      <td>15.625465</td>\n",
       "      <td>2020-05-10 21:34:39.179771904</td>\n",
       "    </tr>\n",
       "    <tr>\n",
       "      <th>min</th>\n",
       "      <td>2.016000e+07</td>\n",
       "      <td>0.000000</td>\n",
       "      <td>2016.000000</td>\n",
       "      <td>1.000000</td>\n",
       "      <td>1.000000</td>\n",
       "      <td>2016-01-01 00:00:00</td>\n",
       "    </tr>\n",
       "    <tr>\n",
       "      <th>25%</th>\n",
       "      <td>2.019041e+10</td>\n",
       "      <td>1.000000</td>\n",
       "      <td>2019.000000</td>\n",
       "      <td>3.000000</td>\n",
       "      <td>8.000000</td>\n",
       "      <td>2019-07-08 00:00:00</td>\n",
       "    </tr>\n",
       "    <tr>\n",
       "      <th>50%</th>\n",
       "      <td>2.020014e+10</td>\n",
       "      <td>1.000000</td>\n",
       "      <td>2020.000000</td>\n",
       "      <td>7.000000</td>\n",
       "      <td>16.000000</td>\n",
       "      <td>2020-03-09 00:00:00</td>\n",
       "    </tr>\n",
       "    <tr>\n",
       "      <th>75%</th>\n",
       "      <td>2.021014e+10</td>\n",
       "      <td>1.000000</td>\n",
       "      <td>2021.000000</td>\n",
       "      <td>10.000000</td>\n",
       "      <td>23.000000</td>\n",
       "      <td>2021-03-30 00:00:00</td>\n",
       "    </tr>\n",
       "    <tr>\n",
       "      <th>max</th>\n",
       "      <td>2.021345e+11</td>\n",
       "      <td>16.000000</td>\n",
       "      <td>2021.000000</td>\n",
       "      <td>12.000000</td>\n",
       "      <td>31.000000</td>\n",
       "      <td>2021-12-31 00:00:00</td>\n",
       "    </tr>\n",
       "    <tr>\n",
       "      <th>std</th>\n",
       "      <td>4.846605e+09</td>\n",
       "      <td>0.544944</td>\n",
       "      <td>0.937644</td>\n",
       "      <td>3.479634</td>\n",
       "      <td>8.698323</td>\n",
       "      <td>NaN</td>\n",
       "    </tr>\n",
       "  </tbody>\n",
       "</table>\n",
       "</div>"
      ],
      "text/plain": [
       "        IdSiniestro  NumeroVictimas           Año           Mes           Dia  \\\n",
       "count  2.448100e+04    24481.000000  24481.000000  24481.000000  24481.000000   \n",
       "mean   1.969257e+10        1.156856   2019.852620      6.600261     15.625465   \n",
       "min    2.016000e+07        0.000000   2016.000000      1.000000      1.000000   \n",
       "25%    2.019041e+10        1.000000   2019.000000      3.000000      8.000000   \n",
       "50%    2.020014e+10        1.000000   2020.000000      7.000000     16.000000   \n",
       "75%    2.021014e+10        1.000000   2021.000000     10.000000     23.000000   \n",
       "max    2.021345e+11       16.000000   2021.000000     12.000000     31.000000   \n",
       "std    4.846605e+09        0.544944      0.937644      3.479634      8.698323   \n",
       "\n",
       "                               Fecha  \n",
       "count                          24481  \n",
       "mean   2020-05-10 21:34:39.179771904  \n",
       "min              2016-01-01 00:00:00  \n",
       "25%              2019-07-08 00:00:00  \n",
       "50%              2020-03-09 00:00:00  \n",
       "75%              2021-03-30 00:00:00  \n",
       "max              2021-12-31 00:00:00  \n",
       "std                              NaN  "
      ]
     },
     "execution_count": 93,
     "metadata": {},
     "output_type": "execute_result"
    }
   ],
   "source": [
    "siniestrosCABA.describe()"
   ]
  },
  {
   "cell_type": "markdown",
   "metadata": {},
   "source": [
    "*Obtenemos una descripción de las columnas, sus tipos de datos y sus valores no nulos del dataframe **victimasCABA**:*\n",
    "\n",
    "1. *El total de registros es de **28322***\n",
    "2. *Existe 1 columna con gran cantidad de registros nulos, sin embargo decidimos no eliminar estos registros ya que perderíamos más de la mitad de la información, por lo tanto en el análisis de los datos revisaremos esto a detalle.*"
   ]
  },
  {
   "cell_type": "code",
   "execution_count": 94,
   "metadata": {},
   "outputs": [
    {
     "name": "stdout",
     "output_type": "stream",
     "text": [
      "<class 'pandas.core.frame.DataFrame'>\n",
      "Index: 28322 entries, 0 to 27604\n",
      "Data columns (total 5 columns):\n",
      " #   Column          Non-Null Count  Dtype \n",
      "---  ------          --------------  ----- \n",
      " 0   IdSiniestro     28322 non-null  object\n",
      " 1   IdActorVictima  12035 non-null  object\n",
      " 2   Sexo            26088 non-null  object\n",
      " 3   TipoVictima     28322 non-null  object\n",
      " 4   RangoEtario     23796 non-null  object\n",
      "dtypes: object(5)\n",
      "memory usage: 1.3+ MB\n"
     ]
    }
   ],
   "source": [
    "victimasCABA.info()"
   ]
  },
  {
   "cell_type": "markdown",
   "metadata": {},
   "source": [
    "*Obtenemos una descripción estadística de los datos:*\n",
    "\n",
    "1. *El sexo con mayor número de victimas es **Masculino**.*\n",
    "2. *La mayoría de las victimas quedaron **lesionadas** por motivo del siniestro.*\n",
    "3. *Las victimas más afectadas son los **Adultos Jovenes**.*"
   ]
  },
  {
   "cell_type": "code",
   "execution_count": 95,
   "metadata": {},
   "outputs": [
    {
     "data": {
      "text/html": [
       "<div>\n",
       "<style scoped>\n",
       "    .dataframe tbody tr th:only-of-type {\n",
       "        vertical-align: middle;\n",
       "    }\n",
       "\n",
       "    .dataframe tbody tr th {\n",
       "        vertical-align: top;\n",
       "    }\n",
       "\n",
       "    .dataframe thead th {\n",
       "        text-align: right;\n",
       "    }\n",
       "</style>\n",
       "<table border=\"1\" class=\"dataframe\">\n",
       "  <thead>\n",
       "    <tr style=\"text-align: right;\">\n",
       "      <th></th>\n",
       "      <th>IdSiniestro</th>\n",
       "      <th>IdActorVictima</th>\n",
       "      <th>Sexo</th>\n",
       "      <th>TipoVictima</th>\n",
       "      <th>RangoEtario</th>\n",
       "    </tr>\n",
       "  </thead>\n",
       "  <tbody>\n",
       "    <tr>\n",
       "      <th>count</th>\n",
       "      <td>28322</td>\n",
       "      <td>12035</td>\n",
       "      <td>26088</td>\n",
       "      <td>28322</td>\n",
       "      <td>23796</td>\n",
       "    </tr>\n",
       "    <tr>\n",
       "      <th>unique</th>\n",
       "      <td>24481</td>\n",
       "      <td>5</td>\n",
       "      <td>2</td>\n",
       "      <td>3</td>\n",
       "      <td>7</td>\n",
       "    </tr>\n",
       "    <tr>\n",
       "      <th>top</th>\n",
       "      <td>20190188476</td>\n",
       "      <td>5</td>\n",
       "      <td>Masculino</td>\n",
       "      <td>Lesionada</td>\n",
       "      <td>Adulto Joven</td>\n",
       "    </tr>\n",
       "    <tr>\n",
       "      <th>freq</th>\n",
       "      <td>16</td>\n",
       "      <td>5042</td>\n",
       "      <td>17567</td>\n",
       "      <td>27068</td>\n",
       "      <td>7467</td>\n",
       "    </tr>\n",
       "  </tbody>\n",
       "</table>\n",
       "</div>"
      ],
      "text/plain": [
       "        IdSiniestro IdActorVictima       Sexo TipoVictima   RangoEtario\n",
       "count         28322          12035      26088       28322         23796\n",
       "unique        24481              5          2           3             7\n",
       "top     20190188476              5  Masculino   Lesionada  Adulto Joven\n",
       "freq             16           5042      17567       27068          7467"
      ]
     },
     "execution_count": 95,
     "metadata": {},
     "output_type": "execute_result"
    }
   ],
   "source": [
    "victimasCABA.describe()"
   ]
  },
  {
   "cell_type": "markdown",
   "metadata": {},
   "source": [
    "*Obtenemos una descripción de las columnas, sus tipos de datos y sus valores no nulos del dataframe **siniestrosLocs**:*\n",
    "\n",
    "1. *El total de registros es de **24481***\n",
    "2. *Existe 2 columnas con gran cantidad de registros nulos, sin embargo decidimos no eliminar estos registros ya que perderíamos más de la mitad de la información, por lo tanto en el análisis de los datos revisaremos esto a detalle.*"
   ]
  },
  {
   "cell_type": "code",
   "execution_count": 96,
   "metadata": {},
   "outputs": [
    {
     "name": "stdout",
     "output_type": "stream",
     "text": [
      "<class 'pandas.core.frame.DataFrame'>\n",
      "Index: 24481 entries, 0 to 23784\n",
      "Data columns (total 6 columns):\n",
      " #   Column       Non-Null Count  Dtype \n",
      "---  ------       --------------  ----- \n",
      " 0   IdSiniestro  24481 non-null  int64 \n",
      " 1   Longitud     23010 non-null  object\n",
      " 2   Latitud      23010 non-null  object\n",
      " 3   IdComuna     23022 non-null  object\n",
      " 4   TipoVia      13436 non-null  object\n",
      " 5   NombreVia    13562 non-null  object\n",
      "dtypes: int64(1), object(5)\n",
      "memory usage: 1.3+ MB\n"
     ]
    }
   ],
   "source": [
    "siniestrosLocs.info()"
   ]
  },
  {
   "cell_type": "markdown",
   "metadata": {},
   "source": [
    "### **Exportación de datos a CSV (Load)** ###\n",
    "---\n",
    "\n",
    "*Una vez hemos revisado nuestro dataframe, lo podemos exportar a un archivo **CSV** para guardar todos los cambios realizados*.\n",
    "\n",
    "\n",
    "**Nota:** *Los archivos se encuentran en la carpeta dataout.*"
   ]
  },
  {
   "cell_type": "code",
   "execution_count": 210,
   "metadata": {},
   "outputs": [],
   "source": [
    "siniestrosCABA.to_csv(\"dataout/siniestrosCABA.csv\", index=False, encoding=\"utf-8\")\n",
    "victimasCABA.to_csv(\"dataout/victimasCABA.csv\", index=False, encoding=\"utf-8\")"
   ]
  },
  {
   "cell_type": "code",
   "execution_count": 211,
   "metadata": {},
   "outputs": [],
   "source": [
    "siniestrosLocs.to_csv(\"dataout/siniestrosLocs.csv\", index=False, encoding=\"utf-8\")\n",
    "dfActores.to_csv(\"dataout/actores.csv\", index=False, encoding=\"utf-8\")\n",
    "dfModos.to_csv(\"dataout/modos.csv\", index=False, encoding=\"utf-8\")"
   ]
  }
 ],
 "metadata": {
  "kernelspec": {
   "display_name": "env",
   "language": "python",
   "name": "python3"
  },
  "language_info": {
   "codemirror_mode": {
    "name": "ipython",
    "version": 3
   },
   "file_extension": ".py",
   "mimetype": "text/x-python",
   "name": "python",
   "nbconvert_exporter": "python",
   "pygments_lexer": "ipython3",
   "version": "3.11.8"
  }
 },
 "nbformat": 4,
 "nbformat_minor": 2
}
